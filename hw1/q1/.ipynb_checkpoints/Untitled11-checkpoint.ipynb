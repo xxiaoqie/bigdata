{
 "cells": [
  {
   "cell_type": "code",
   "execution_count": 1,
   "id": "developed-willow",
   "metadata": {},
   "outputs": [],
   "source": [
    "import os\n",
    "\n",
    "os.environ[\"JAVA_HOME\"] = \"C:/Program Files/Java/jdk1.8.0_261\"\n",
    "\n",
    "import pyspark\n",
    "from pyspark.sql import *\n",
    "from pyspark.sql.functions import *\n",
    "from pyspark import SparkContext, SparkConf\n",
    "\n",
    "conf = SparkConf().set(\"spark.ui.port\", \"4050\")\n",
    "\n",
    "# create the context\n",
    "sc = pyspark.SparkContext(conf=conf)\n",
    "spark = SparkSession.builder.getOrCreate()"
   ]
  },
  {
   "cell_type": "code",
   "execution_count": 2,
   "id": "eastern-sunset",
   "metadata": {},
   "outputs": [],
   "source": [
    "rdd = sc.textFile(\"soc-LiveJournal1Adj.txt\")"
   ]
  },
  {
   "cell_type": "code",
   "execution_count": null,
   "id": "rapid-promotion",
   "metadata": {},
   "outputs": [],
   "source": []
  },
  {
   "cell_type": "code",
   "execution_count": null,
   "id": "immediate-marshall",
   "metadata": {},
   "outputs": [],
   "source": [
    "import re\n",
    "def mf(line):\n",
    "    col = re.split('[\\t,]',line)\n",
    "    ret = []\n",
    "    for i in range(1,len(col)):\n",
    "        if col[i] != '':\n",
    "            ret.append((int(col[0]),int(col[i])))\n",
    "    return ret\n",
    "\n",
    "rdd.flatMap(mf).count()\n",
    "friend = rdd.flatMap(mf).groupByKey()"
   ]
  },
  {
   "cell_type": "code",
   "execution_count": 5,
   "id": "south-mixer",
   "metadata": {},
   "outputs": [],
   "source": [
    "f = dict(friend.collect())"
   ]
  },
  {
   "cell_type": "code",
   "execution_count": null,
   "id": "awful-scoop",
   "metadata": {},
   "outputs": [],
   "source": [
    "def wimf(line):\n",
    "    col = re.split('[\\t,]',line)\n",
    "    ret = []\n",
    "    for i in range(1,len(col)):\n",
    "        for j in range(1,len(col)):\n",
    "            if i != :\n",
    "                ret.append( ((int(col[i]),int(col[j])),1) )\n",
    "    return ret\n",
    "\n",
    "\n",
    "\n",
    "rdd1 = rdd.flatMap(wimf)#.reduceByKey(lambda x,y:x+y).map(lambda x:(x[0][0],(x[0][1],x[1]))).sortBy(lambda x:(x[0],-x[1][1],x[1][0]))\n",
    "rdd1.count()"
   ]
  },
  {
   "cell_type": "code",
   "execution_count": 7,
   "id": "boxed-mainstream",
   "metadata": {},
   "outputs": [
    {
     "data": {
      "text/plain": [
       "12054196"
      ]
     },
     "execution_count": 7,
     "metadata": {},
     "output_type": "execute_result"
    }
   ],
   "source": [
    "rdd1.count()"
   ]
  },
  {
   "cell_type": "code",
   "execution_count": 8,
   "id": "protective-surprise",
   "metadata": {},
   "outputs": [
    {
     "data": {
      "text/plain": [
       "[(27552, 4),\n",
       " (7785, 3),\n",
       " (27573, 3),\n",
       " (27574, 3),\n",
       " (27589, 3),\n",
       " (27590, 3),\n",
       " (27600, 3),\n",
       " (27617, 3),\n",
       " (27620, 3),\n",
       " (27667, 3)]"
      ]
     },
     "execution_count": 8,
     "metadata": {},
     "output_type": "execute_result"
    }
   ],
   "source": [
    "rdd1.filter(lambda x:x[0]==11).values().take(10)"
   ]
  },
  {
   "cell_type": "code",
   "execution_count": 9,
   "id": "considered-mixture",
   "metadata": {
    "scrolled": true
   },
   "outputs": [
    {
     "name": "stdout",
     "output_type": "stream",
     "text": [
      "924:439,2409,6995,11860,15416,43748,45881\n",
      "8941:8943,8944,8940\n",
      "8942:8939,8940,8943,8944\n",
      "9019:9022,317,9023\n",
      "9020:9021,9016,9017,9022,317,9023\n",
      "9021:9020,9016,9017,9022,317,9023\n",
      "9022:9019,9020,9021,317,9016,9017,9023\n",
      "9990:13134,13478,13877,34299,34485,34642,37941\n",
      "9992:9987,9989,35667,9991\n",
      "9993:9991,13134,13478,13877,34299,34485,34642,37941\n"
     ]
    }
   ],
   "source": [
    "for x in [924, 8941, 8942, 9019, 9020, 9021, 9022, 9990, 9992, 9993]:\n",
    "    print(\"%s:%s\" % (x,\",\".join(str(y[0]) for y in rdd1.filter(lambda y:y[0]==x).values().take(10))))\n",
    "    "
   ]
  },
  {
   "cell_type": "code",
   "execution_count": null,
   "id": "fifteen-large",
   "metadata": {},
   "outputs": [],
   "source": []
  },
  {
   "cell_type": "code",
   "execution_count": null,
   "id": "pressing-latvia",
   "metadata": {},
   "outputs": [],
   "source": []
  },
  {
   "cell_type": "code",
   "execution_count": null,
   "id": "alleged-payroll",
   "metadata": {},
   "outputs": [],
   "source": []
  }
 ],
 "metadata": {
  "kernelspec": {
   "display_name": "Python 3",
   "language": "python",
   "name": "python3"
  },
  "language_info": {
   "codemirror_mode": {
    "name": "ipython",
    "version": 3
   },
   "file_extension": ".py",
   "mimetype": "text/x-python",
   "name": "python",
   "nbconvert_exporter": "python",
   "pygments_lexer": "ipython3",
   "version": "3.7.9"
  }
 },
 "nbformat": 4,
 "nbformat_minor": 5
}
