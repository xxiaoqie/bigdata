{
 "cells": [
  {
   "cell_type": "code",
   "execution_count": 1,
   "id": "developed-willow",
   "metadata": {},
   "outputs": [],
   "source": [
    "import os\n",
    "\n",
    "os.environ[\"JAVA_HOME\"] = \"C:/Program Files/Java/jdk1.8.0_291\"\n",
    "\n",
    "import pandas as pd\n",
    "import numpy as np\n",
    "import matplotlib.pyplot as plt\n",
    "%matplotlib inline\n",
    "\n",
    "import pyspark\n",
    "from pyspark.sql import *\n",
    "from pyspark.sql.functions import *\n",
    "from pyspark import SparkContext, SparkConf\n",
    "\n",
    "conf = SparkConf().set(\"spark.ui.port\", \"4050\")\n",
    "\n",
    "# create the context\n",
    "sc = pyspark.SparkContext(conf=conf)\n",
    "spark = SparkSession.builder.getOrCreate()"
   ]
  },
  {
   "cell_type": "code",
   "execution_count": 2,
   "id": "eastern-sunset",
   "metadata": {},
   "outputs": [],
   "source": [
    "rdd = sc.textFile(\"data/soc-LiveJournal1Adj.txt\")"
   ]
  },
  {
   "cell_type": "code",
   "execution_count": 3,
   "id": "immediate-marshall",
   "metadata": {},
   "outputs": [],
   "source": [
    "import re\n",
    "def mf(line):\n",
    "    line = line.split('\\t')\n",
    "    if(not line[1]):\n",
    "        return (int(line[0]),[])\n",
    "    vs = sorted([int(v) for v in line[1].split(',')])\n",
    "    return (int(line[0]),vs)\n",
    "\n",
    "\n",
    "def line_to_pairs (uvs):\n",
    "    u,vs = uvs\n",
    "    pairs = []\n",
    "    n = len(vs)\n",
    "    for i in range(n):\n",
    "        for j in range(i):\n",
    "            pairs.append(((vs[j],vs[i]),1))\n",
    "    minf = -float('inf')\n",
    "    for v in vs:\n",
    "        if u < v:\n",
    "            pairs.append(((u,v),minf))\n",
    "        else:\n",
    "            pairs.append(((v,u),minf))\n",
    "    return pairs\n",
    "            \n",
    "pairs = rdd.map(mf).flatMap(line_to_pairs)"
   ]
  },
  {
   "cell_type": "code",
   "execution_count": 4,
   "id": "hybrid-georgia",
   "metadata": {},
   "outputs": [],
   "source": [
    "pair_count = pairs.reduceByKey(lambda x,y:x+y).filter(lambda x:x[1]>0)"
   ]
  },
  {
   "cell_type": "code",
   "execution_count": 5,
   "id": "driven-header",
   "metadata": {},
   "outputs": [],
   "source": [
    "def count_to_suggest(uv_num):\n",
    "    uv,num = uv_num\n",
    "    u,v = uv\n",
    "    return (u,(num,v)),(v,(num,u))\n",
    "suggest = pair_count.flatMap(count_to_suggest).groupByKey()"
   ]
  },
  {
   "cell_type": "code",
   "execution_count": 6,
   "id": "spanish-farming",
   "metadata": {},
   "outputs": [],
   "source": [
    "def pick_suggest(suggest):\n",
    "    u,vs = suggest\n",
    "    vs = sorted(vs,key=lambda v:(-v[0],v[1]))\n",
    "    vs = [v[1] for v in vs[:10]]\n",
    "    return u,vs\n",
    "suggest = suggest.map(pick_suggest)"
   ]
  },
  {
   "cell_type": "code",
   "execution_count": 7,
   "id": "sealed-california",
   "metadata": {},
   "outputs": [
    {
     "data": {
      "text/plain": [
       "[27552, 7785, 27573, 27574, 27589, 27590, 27600, 27617, 27620, 27667]"
      ]
     },
     "execution_count": 7,
     "metadata": {},
     "output_type": "execute_result"
    }
   ],
   "source": [
    "suggest.filter(lambda y:y[0]==11).collect()[0][1]"
   ]
  },
  {
   "cell_type": "code",
   "execution_count": 8,
   "id": "tropical-error",
   "metadata": {},
   "outputs": [
    {
     "name": "stdout",
     "output_type": "stream",
     "text": [
      "924:439,2409,6995,11860,15416,43748,45881\n",
      "8941:8943,8944,8940\n",
      "8942:8939,8940,8943,8944\n",
      "9019:9022,317,9023\n",
      "9020:9021,9016,9017,9022,317,9023\n",
      "9021:9020,9016,9017,9022,317,9023\n",
      "9022:9019,9020,9021,317,9016,9017,9023\n",
      "9990:13134,13478,13877,34299,34485,34642,37941\n",
      "9992:9987,9989,35667,9991\n",
      "9993:9991,13134,13478,13877,34299,34485,34642,37941\n"
     ]
    }
   ],
   "source": [
    "for x in [924, 8941, 8942, 9019, 9020, 9021, 9022, 9990, 9992, 9993]:\n",
    "    print(\"%s:%s\" % (x,\",\".join(str(x) for x in suggest.filter(lambda y:y[0]==x).collect()[0][1])))"
   ]
  },
  {
   "cell_type": "code",
   "execution_count": null,
   "id": "least-camel",
   "metadata": {},
   "outputs": [],
   "source": []
  }
 ],
 "metadata": {
  "kernelspec": {
   "display_name": "Python 3",
   "language": "python",
   "name": "python3"
  },
  "language_info": {
   "codemirror_mode": {
    "name": "ipython",
    "version": 3
   },
   "file_extension": ".py",
   "mimetype": "text/x-python",
   "name": "python",
   "nbconvert_exporter": "python",
   "pygments_lexer": "ipython3",
   "version": "3.7.9"
  }
 },
 "nbformat": 4,
 "nbformat_minor": 5
}
