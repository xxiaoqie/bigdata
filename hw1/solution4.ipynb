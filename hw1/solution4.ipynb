{
 "cells": [
  {
   "cell_type": "code",
   "execution_count": 1,
   "id": "centered-thesaurus",
   "metadata": {},
   "outputs": [],
   "source": [
    "import numpy as np\n",
    "import random\n",
    "import time\n",
    "import pdb\n",
    "import unittest\n",
    "from PIL import Image\n",
    "import matplotlib.pyplot as plt\n",
    "\n",
    "# Finds the L1 distance between two vectors\n",
    "# u and v are 1-dimensional np.array objects\n",
    "# TODO: Implement this\n",
    "def l1(u, v):\n",
    "    ret = 0\n",
    "    for i in range(len(u)):\n",
    "        ret = ret + abs(u[i]-v[i])\n",
    "    return ret\n",
    "\n",
    "# Loads the data into a np array, where each row corresponds to\n",
    "# an image patch -- this step is sort of slow.\n",
    "# Each row in the data is an image, and there are 400 columns.\n",
    "def load_data(filename):\n",
    "    return np.genfromtxt(filename, delimiter=',')\n",
    "\n",
    "# Creates a hash function from a list of dimensions and thresholds.\n",
    "def create_function(dimensions, thresholds):\n",
    "    def f(v):\n",
    "        boolarray = [v[dimensions[i]] >= thresholds[i] for i in range(len(dimensions))]\n",
    "        return \"\".join(map(str, map(int, boolarray)))\n",
    "    return f\n",
    "\n",
    "# Creates the LSH functions (functions that compute L K-bit hash keys).\n",
    "# Each function selects k dimensions (i.e. column indices of the image matrix)\n",
    "# at random, and then chooses a random threshold for each dimension, between 0 and\n",
    "# 255.  For any image, if its value on a given dimension is greater than or equal to\n",
    "# the randomly chosen threshold, we set that bit to 1.  Each hash function returns\n",
    "# a length-k bit string of the form \"0101010001101001...\", and the L hash functions\n",
    "# will produce L such bit strings for each image.\n",
    "def create_functions(k, L, num_dimensions=400, min_threshold=0, max_threshold=255):\n",
    "    functions = []\n",
    "    for i in range(L):\n",
    "        dimensions = np.random.randint(low = 0,\n",
    "                                       high = num_dimensions,\n",
    "                                       size = k)\n",
    "        thresholds = np.random.randint(low = min_threshold,\n",
    "                                       high = max_threshold + 1,\n",
    "                                       size = k)\n",
    "\n",
    "        functions.append(create_function(dimensions, thresholds))\n",
    "    return functions\n",
    "\n",
    "# Hashes an individual vector (i.e. image).  This produces an array with L\n",
    "# entries, where each entry is a string of k bits.\n",
    "def hash_vector(functions, v):\n",
    "    return np.array([f(v) for f in functions])\n",
    "\n",
    "# Hashes the data in A, where each row is a datapoint, using the L\n",
    "# functions in \"functions.\"\n",
    "def hash_data(functions, A):\n",
    "    return np.array(list(map(lambda v: hash_vector(functions, v), A)))\n",
    "\n",
    "# Retrieve all of the points that hash to one of the same buckets\n",
    "# as the query point.  Do not do any random sampling (unlike what the first\n",
    "# part of this problem prescribes).\n",
    "# Don't retrieve a point if it is the same point as the query point.\n",
    "def get_candidates(hashed_A, hashed_point, query_index):\n",
    "    return filter(lambda i: i != query_index and any(hashed_point == hashed_A[i]), range(len(hashed_A)))\n",
    "\n",
    "# Sets up the LSH.  You should try to call this function as few times as\n",
    "# possible, since it is expensive.\n",
    "# A: The dataset.\n",
    "# Return the LSH functions and hashed data structure.\n",
    "def lsh_setup(A, k = 24, L = 10):\n",
    "    functions = create_functions(k = k, L = L)\n",
    "    hashed_A = hash_data(functions, A)\n",
    "    return (functions, hashed_A)\n",
    "\n",
    "# Run the entire LSH algorithm\n",
    "def lsh_search(A, hashed_A, functions, query_index, num_neighbors = 3):\n",
    "    hashed_point = hash_vector(functions, A[query_index, :])\n",
    "    candidate_row_nums = get_candidates(hashed_A, hashed_point, query_index)\n",
    "\n",
    "    distances = map(lambda r: (r, l1(A[r], A[query_index])), candidate_row_nums)\n",
    "    best_neighbors = sorted(distances, key=lambda t: t[1])[:num_neighbors]\n",
    "\n",
    "    return [t[0] for t in best_neighbors]\n",
    "\n",
    "# Plots images at the specified rows and saves them each to files.\n",
    "def plot(A, row_nums, base_filename):\n",
    "    for row_num in row_nums:\n",
    "        patch = np.reshape(A[row_num, :], [20, 20])\n",
    "        im = Image.fromarray(patch)\n",
    "        if im.mode != 'RGB':\n",
    "            im = im.convert('RGB')\n",
    "        im.save(base_filename + \"-\" + str(row_num) + \".png\")\n",
    "\n",
    "# Finds the nearest neighbors to a given vector, using linear search.\n",
    "def linear_search(A, query_index, num_neighbors = 3):\n",
    "    distances = map(lambda r: (r, l1(A[r], A[query_index])), filter(lambda i:i!=query_index,range(len(A))) )\n",
    "    best_neighbors = sorted(distances, key=lambda t: t[1])[:num_neighbors]\n",
    "    return [t[0] for t in best_neighbors]\n",
    "\n",
    "# TODO: Write a function that computes the error measure\n",
    "def calerror(A,lsh_best_neighbors,line_best_neighbors,query_index):\n",
    "    fz = sum( map(lambda r: l1(A[r], A[query_index]), lsh_best_neighbors) )\n",
    "    fm = sum( map(lambda r: l1(A[r], A[query_index]), line_best_neighbors) )\n",
    "    return fz/fm\n",
    "    "
   ]
  },
  {
   "cell_type": "code",
   "execution_count": 2,
   "id": "atlantic-ending",
   "metadata": {},
   "outputs": [],
   "source": [
    "A = load_data(\"data/patches.csv\")"
   ]
  },
  {
   "cell_type": "code",
   "execution_count": 3,
   "id": "mediterranean-squad",
   "metadata": {},
   "outputs": [
    {
     "name": "stdout",
     "output_type": "stream",
     "text": [
      "lsh 平均搜索用时： 1.8248265027999877\n",
      "线性搜索 平均搜索用时： 8.27710964679718\n"
     ]
    }
   ],
   "source": [
    "#对与第 100,200,...,1000 列中的图像块，分别使用 LSH 和线性搜索找出它们的前 3 近邻（这些图像块自身除外）。\n",
    "#这两种方法的平均搜索用时是多少？\n",
    "line_best_neighbors = []\n",
    "\n",
    "lsh_start = time.time()\n",
    "functions, hashed_A = lsh_setup(A)\n",
    "for r in [100,200,300,400,500,600,700,800,900,1000]:\n",
    "    lsh_best_neighbors = lsh_search(A, hashed_A, functions, r)\n",
    "lsh_end = time.time()\n",
    "\n",
    "line_start = time.time()\n",
    "for r in [100,200,300,400,500,600,700,800,900,1000]:\n",
    "    line_best_neighbors.append(linear_search(A, r))\n",
    "line_end = time.time()\n",
    "\n",
    "print(\"lsh 平均搜索用时：\",(lsh_end-lsh_start)/10)\n",
    "print(\"线性搜索 平均搜索用时：\",(line_end-line_start)/10)"
   ]
  },
  {
   "cell_type": "code",
   "execution_count": 10,
   "id": "artistic-double",
   "metadata": {},
   "outputs": [
    {
     "name": "stderr",
     "output_type": "stream",
     "text": [
      "c:\\users\\xxiao\\appdata\\local\\programs\\python\\python37\\lib\\site-packages\\ipykernel_launcher.py:35: UserWarning: Matplotlib is currently using module://ipykernel.pylab.backend_inline, which is a non-GUI backend, so cannot show the figure.\n"
     ]
    },
    {
     "data": {
      "image/png": "[encoded data removed]",
      "text/plain": [
       "<Figure size 432x288 with 2 Axes>"
      ]
     },
     "metadata": {
      "needs_background": "light"
     },
     "output_type": "display_data"
    }
   ],
   "source": [
    "fig=plt.figure()\n",
    "ax1=fig.add_subplot(1,2,1)\n",
    "ax2=fig.add_subplot(1,2,2)\n",
    "\n",
    "#将误差值绘制为关于 L 的函数 (取 L = 10, 12, 14, . . . , 20，此时固定 k = 24)。\n",
    "errors = []\n",
    "for L in [10,12,14,16,18,20]:\n",
    "    error = 0\n",
    "    functions, hashed_A = lsh_setup(A,24,L)\n",
    "    for r in [100,200,300,400,500,600,700,800,900,1000]:\n",
    "        lsh_best_neighbors = lsh_search(A, hashed_A, functions, r)\n",
    "        error += calerror(A,lsh_best_neighbors,line_best_neighbors[r//100-1],r)\n",
    "    error /= 10\n",
    "    errors.append(error)\n",
    "    #print(\"L=\",L,\", error=\",error)\n",
    "ax1.plot([10,12,14,16,18,20],errors)\n",
    "ax1.set_xlabel('L')\n",
    "ax1.set_ylabel('error')\n",
    "\n",
    "# 将误差绘制为关于 k 的函数 (取 k = 16, 18, 20, 22, 24，此时固定 L = 10)\n",
    "errors  = []\n",
    "for k in [16,18,20,22,24]:\n",
    "    error = 0\n",
    "    functions, hashed_A = lsh_setup(A,k,10)\n",
    "    for r in [100,200,300,400,500,600,700,800,900,1000]:\n",
    "        lsh_best_neighbors = lsh_search(A, hashed_A, functions, r)\n",
    "        error += calerror(A,lsh_best_neighbors,line_best_neighbors[r//100-1],r)\n",
    "    error /= 10\n",
    "    errors.append(error)\n",
    "    #print(\"k=\",k,\", error=\",error)\n",
    "ax2.plot([16,18,20,22,24],errors)\n",
    "ax2.set_xlabel('k')\n",
    "ax2.set_ylabel('error')\n",
    "\n",
    "fig.show()"
   ]
  },
  {
   "cell_type": "code",
   "execution_count": 11,
   "id": "comprehensive-mayor",
   "metadata": {},
   "outputs": [],
   "source": [
    "# 画出两种方法找出的 10 个最近邻（包括原图本身），以及简要的视觉比较描述\n",
    "functions, hashed_A = lsh_setup(A)\n",
    "lsh_neighbors = lsh_search(A, hashed_A, functions, 100, 10)\n",
    "line_neighbors = linear_search(A, 100, 10)\n",
    "plot(A, lsh_neighbors, 'lsh')\n",
    "plot(A, line_neighbors, 'line')"
   ]
  },
  {
   "cell_type": "code",
   "execution_count": null,
   "id": "velvet-beast",
   "metadata": {},
   "outputs": [],
   "source": []
  }
 ],
 "metadata": {
  "kernelspec": {
   "display_name": "Python 3",
   "language": "python",
   "name": "python3"
  },
  "language_info": {
   "codemirror_mode": {
    "name": "ipython",
    "version": 3
   },
   "file_extension": ".py",
   "mimetype": "text/x-python",
   "name": "python",
   "nbconvert_exporter": "python",
   "pygments_lexer": "ipython3",
   "version": "3.7.9"
  }
 },
 "nbformat": 4,
 "nbformat_minor": 5
}
