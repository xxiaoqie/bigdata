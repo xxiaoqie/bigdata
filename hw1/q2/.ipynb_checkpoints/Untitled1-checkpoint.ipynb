{
 "cells": [
  {
   "cell_type": "code",
   "execution_count": 1,
   "id": "developed-willow",
   "metadata": {},
   "outputs": [],
   "source": [
    "import os\n",
    "\n",
    "os.environ[\"JAVA_HOME\"] = \"C:/Program Files/Java/openjdk-15.0.2\"\n",
    "\n",
    "import pyspark\n",
    "from pyspark.sql import *\n",
    "from pyspark.sql.functions import *\n",
    "from pyspark import SparkContext, SparkConf\n",
    "\n",
    "conf = SparkConf().set(\"spark.ui.port\", \"4050\")\n",
    "\n",
    "# create the context\n",
    "sc = pyspark.SparkContext(conf=conf)\n",
    "spark = SparkSession.builder.getOrCreate()"
   ]
  },
  {
   "cell_type": "code",
   "execution_count": 2,
   "id": "eastern-sunset",
   "metadata": {},
   "outputs": [],
   "source": [
    "rdd = sc.textFile(\"data/browsing.txt\")"
   ]
  },
  {
   "cell_type": "code",
   "execution_count": 5,
   "id": "alternate-award",
   "metadata": {},
   "outputs": [],
   "source": [
    "import numpy as np\n",
    "def f(s):\n",
    "    a = s.split(' ')\n",
    "    a.remove('')\n",
    "    a = np.unique(a).tolist()\n",
    "    return [a]\n",
    "rdd1 = rdd.map(f)"
   ]
  },
  {
   "cell_type": "code",
   "execution_count": 6,
   "id": "peripheral-peeing",
   "metadata": {},
   "outputs": [],
   "source": [
    "df = spark.createDataFrame(rdd1)"
   ]
  },
  {
   "cell_type": "code",
   "execution_count": 7,
   "id": "blessed-kansas",
   "metadata": {},
   "outputs": [
    {
     "name": "stdout",
     "output_type": "stream",
     "text": [
      "+--------------------+\n",
      "|                  _1|\n",
      "+--------------------+\n",
      "|[ELE17451, ELE890...|\n",
      "|[ELE17451, ELE269...|\n",
      "|[DAI22896, ELE174...|\n",
      "|[ELE17451, ELE233...|\n",
      "|[DAI54444, ELE113...|\n",
      "|[DAI22896, DAI509...|\n",
      "|[DAI22177, ELE174...|\n",
      "|[DAI14125, ELE113...|\n",
      "|[DAI22177, DAI228...|\n",
      "|[DAI54690, DAI915...|\n",
      "|[DAI22177, DAI228...|\n",
      "|[DAI48891, DAI875...|\n",
      "|[ELE11375, ELE273...|\n",
      "|[DAI17810, DAI228...|\n",
      "|[DAI22177, DAI228...|\n",
      "|[ELE17451, ELE599...|\n",
      "|[ELE11111, ELE174...|\n",
      "|[DAI95741, ELE174...|\n",
      "|[DAI44355, ELE113...|\n",
      "|[DAI22896, DAI888...|\n",
      "+--------------------+\n",
      "only showing top 20 rows\n",
      "\n"
     ]
    }
   ],
   "source": [
    "df.show()"
   ]
  },
  {
   "cell_type": "code",
   "execution_count": 8,
   "id": "adaptive-deputy",
   "metadata": {},
   "outputs": [
    {
     "name": "stdout",
     "output_type": "stream",
     "text": [
      "root\n",
      " |-- _1: array (nullable = true)\n",
      " |    |-- element: string (containsNull = true)\n",
      "\n"
     ]
    }
   ],
   "source": [
    "df.printSchema()"
   ]
  },
  {
   "cell_type": "code",
   "execution_count": 32,
   "id": "rapid-promotion",
   "metadata": {},
   "outputs": [],
   "source": [
    "from pyspark.ml.fpm import FPGrowth\n",
    "fpGrowth = FPGrowth(itemsCol=\"_1\",minSupport=100/df.count(), minConfidence=0.6)"
   ]
  },
  {
   "cell_type": "code",
   "execution_count": 33,
   "id": "particular-origin",
   "metadata": {},
   "outputs": [],
   "source": [
    "model = fpGrowth.fit(df)"
   ]
  },
  {
   "cell_type": "code",
   "execution_count": 21,
   "id": "amino-seating",
   "metadata": {},
   "outputs": [],
   "source": [
    "fq = model.freqItemsets.where( (size(col('items')) == 2) | (size(col('items')) == 3))"
   ]
  },
  {
   "cell_type": "code",
   "execution_count": 22,
   "id": "grave-wayne",
   "metadata": {},
   "outputs": [
    {
     "name": "stdout",
     "output_type": "stream",
     "text": [
      "+------------+----+\n",
      "|       items|freq|\n",
      "+------------+----+\n",
      "|[DAI62779, ]|6667|\n",
      "|[FRO40251, ]|3881|\n",
      "|[ELE17451, ]|3875|\n",
      "|[GRO73461, ]|3602|\n",
      "|[SNA80324, ]|3044|\n",
      "|[ELE32164, ]|2851|\n",
      "|[DAI75645, ]|2736|\n",
      "|[SNA45677, ]|2455|\n",
      "|[FRO31317, ]|2330|\n",
      "|[DAI85309, ]|2293|\n",
      "|[ELE26917, ]|2292|\n",
      "|[FRO80039, ]|2233|\n",
      "|[GRO21487, ]|2115|\n",
      "|[SNA99873, ]|2083|\n",
      "|[GRO59710, ]|2004|\n",
      "|[GRO71621, ]|1920|\n",
      "|[FRO85978, ]|1918|\n",
      "|[GRO30386, ]|1840|\n",
      "|[ELE74009, ]|1816|\n",
      "|[GRO56726, ]|1784|\n",
      "+------------+----+\n",
      "only showing top 20 rows\n",
      "\n"
     ]
    }
   ],
   "source": [
    "fq.sort(fq.freq.desc()).show()"
   ]
  },
  {
   "cell_type": "code",
   "execution_count": 23,
   "id": "sudden-civilian",
   "metadata": {},
   "outputs": [
    {
     "data": {
      "text/plain": [
       "3548"
      ]
     },
     "execution_count": 23,
     "metadata": {},
     "output_type": "execute_result"
    }
   ],
   "source": [
    "fq.count()"
   ]
  },
  {
   "cell_type": "code",
   "execution_count": 130,
   "id": "nuclear-parent",
   "metadata": {},
   "outputs": [],
   "source": [
    "res = model.associationRules.where(  (size(col('antecedent')) == 2) | (size(col('antecedent')) == 3) )"
   ]
  },
  {
   "cell_type": "code",
   "execution_count": 131,
   "id": "tutorial-holly",
   "metadata": {},
   "outputs": [
    {
     "name": "stdout",
     "output_type": "stream",
     "text": [
      "+--------------------+----------+----------+-----------------+--------------------+\n",
      "|          antecedent|consequent|confidence|             lift|             support|\n",
      "+--------------------+----------+----------+-----------------+--------------------+\n",
      "|[GRO85051, SNA80324]|[FRO40251]|       1.0|8.013656274156146|0.015144207581749784|\n",
      "|[GRO85051, SNA803...|[FRO40251]|       1.0|8.013656274156146|0.005080222500884216|\n",
      "|[GRO85051, ELE174...|[FRO40251]|       1.0|8.013656274156146|0.005723288640236648|\n",
      "|[GRO85051, ELE26917]|[FRO40251]|       1.0|8.013656274156146|0.004694382817272757|\n",
      "|[GRO85051, SNA45677]|[FRO40251]|       1.0|8.013656274156146|0.003440403845535...|\n",
      "|[GRO85051, DAI756...|[FRO40251]|       1.0|8.013656274156146|0.006173434937783351|\n",
      "|[ELE20847, GRO85051]|[FRO40251]|       1.0|8.013656274156146|0.004469309668499...|\n",
      "|[GRO85051, GRO73461]|[FRO40251]|       1.0|8.013656274156146|0.004726536124240378|\n",
      "|[ELE20847, FRO92469]|[FRO40251]|       1.0|8.013656274156146|0.003922703450049837|\n",
      "|[DAI23334, ELE92920]|[DAI62779]|       1.0|4.664916754162292|0.004597922896369...|\n",
      "|[GRO85051, SNA803...|[FRO40251]|       1.0|8.013656274156146|0.006591427928362...|\n",
      "|[DAI88079, DAI62779]|[FRO40251]|       1.0|8.013656274156146|0.003761936915211...|\n",
      "|[GRO85051, DAI31081]|[FRO40251]|       1.0|8.013656274156146|0.003279637310697405|\n",
      "|[GRO85051, FRO53271]|[FRO40251]|       1.0|8.013656274156146| 0.00337609723160027|\n",
      "|[GRO85051, GRO21487]|[FRO40251]|       1.0|8.013656274156146|0.003858396836114...|\n",
      "|[GRO85051, DAI75645]|[FRO40251]|       1.0|8.013656274156146| 0.01270055625221054|\n",
      "|[GRO85051, ELE17451]|[FRO40251]|       1.0|8.013656274156146|0.006977267611973891|\n",
      "|[GRO85051, DAI756...|[FRO40251]|       1.0|8.013656274156146| 0.00495160927301373|\n",
      "|[GRO85051, GRO38814]|[FRO40251]|       1.0|8.013656274156146|0.003697630301276...|\n",
      "|[DAI55911, GRO85051]|[FRO40251]|       1.0|8.013656274156146|0.004276389826693...|\n",
      "+--------------------+----------+----------+-----------------+--------------------+\n",
      "only showing top 20 rows\n",
      "\n"
     ]
    }
   ],
   "source": [
    "res.orderBy(res.confidence.desc()).show()"
   ]
  },
  {
   "cell_type": "code",
   "execution_count": 96,
   "id": "substantial-pipeline",
   "metadata": {},
   "outputs": [
    {
     "data": {
      "text/plain": [
       "31101"
      ]
     },
     "execution_count": 96,
     "metadata": {},
     "output_type": "execute_result"
    }
   ],
   "source": []
  },
  {
   "cell_type": "code",
   "execution_count": null,
   "id": "minor-japan",
   "metadata": {},
   "outputs": [],
   "source": []
  }
 ],
 "metadata": {
  "kernelspec": {
   "display_name": "Python 3",
   "language": "python",
   "name": "python3"
  },
  "language_info": {
   "codemirror_mode": {
    "name": "ipython",
    "version": 3
   },
   "file_extension": ".py",
   "mimetype": "text/x-python",
   "name": "python",
   "nbconvert_exporter": "python",
   "pygments_lexer": "ipython3",
   "version": "3.7.9"
  }
 },
 "nbformat": 4,
 "nbformat_minor": 5
}
