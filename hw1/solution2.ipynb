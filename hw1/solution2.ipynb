{
 "cells": [
  {
   "cell_type": "code",
   "execution_count": 1,
   "id": "suspended-eagle",
   "metadata": {},
   "outputs": [],
   "source": [
    "import re, sys\n",
    "from pyspark import SparkConf, SparkContext\n",
    "sc = SparkContext(conf=SparkConf())"
   ]
  },
  {
   "cell_type": "code",
   "execution_count": 2,
   "id": "processed-division",
   "metadata": {},
   "outputs": [],
   "source": [
    "lines = sc.textFile('data/browsing.txt')\n",
    "baskets = lines.map(lambda l: l.split()).map(lambda b: sorted(set(b)))"
   ]
  },
  {
   "cell_type": "code",
   "execution_count": 3,
   "id": "nutritional-export",
   "metadata": {},
   "outputs": [],
   "source": [
    "def singles_helper(basket):\n",
    "    ret = []\n",
    "    for item in basket:\n",
    "        ret.append((item,1))\n",
    "    return ret\n",
    "singles_support = baskets.flatMap(singles_helper).reduceByKey(lambda x,y:x+y).filter(lambda x:x[1]>=100)"
   ]
  },
  {
   "cell_type": "code",
   "execution_count": 4,
   "id": "expanded-romance",
   "metadata": {},
   "outputs": [],
   "source": [
    "singles_support_b = {}\n",
    "for item, support in singles_support.collect():\n",
    "    singles_support_b[item] = support\n",
    "singles_support_b = sc.broadcast(singles_support_b)"
   ]
  },
  {
   "cell_type": "code",
   "execution_count": null,
   "id": "collected-sustainability",
   "metadata": {},
   "outputs": [],
   "source": []
  },
  {
   "cell_type": "code",
   "execution_count": 6,
   "id": "sought-integer",
   "metadata": {},
   "outputs": [],
   "source": [
    "def doubles_helper(basket):\n",
    "    singles = singles_support_b.value\n",
    "    ret = []\n",
    "    for i in range(len(basket)):\n",
    "        if basket[i] in singles:\n",
    "            for j in range(i):\n",
    "                if basket[j] in singles:\n",
    "                    # 注意basket已经排序\n",
    "                    # 因此(basket[j], basket[i])一定有序\n",
    "                    ret.append(((basket[j], basket[i]), 1))\n",
    "    return ret\n",
    "doubles_support = baskets.flatMap(doubles_helper).reduceByKey(lambda x,y:x+y).filter(lambda x:x[1]>=100)"
   ]
  },
  {
   "cell_type": "code",
   "execution_count": 7,
   "id": "built-buddy",
   "metadata": {},
   "outputs": [],
   "source": [
    "# 生成二元规则的confidence\n",
    "def confidence_doubles_helper(double_support):\n",
    "    double, support = double_support\n",
    "    support = float(support)\n",
    "    u, v = double\n",
    "    singles = singles_support_b.value\n",
    "    uv_conf = support / singles[u]\n",
    "    vu_conf = support / singles[v]\n",
    "    return (('%s -> %s' % (u, v), uv_conf),\n",
    "            ('%s -> %s' % (v, u), vu_conf))\n",
    "doubles_conf = doubles_support.flatMap(confidence_doubles_helper).sortBy(lambda x: (-x[1], x[0]))"
   ]
  },
  {
   "cell_type": "code",
   "execution_count": 8,
   "id": "dietary-cleveland",
   "metadata": {},
   "outputs": [],
   "source": [
    "# 构造二元item的support广播变量\n",
    "doubles_support_b = {}\n",
    "for entry, support in doubles_support.collect():\n",
    "    doubles_support_b[entry] = support\n",
    "doubles_support_b = sc.broadcast(doubles_support_b)"
   ]
  },
  {
   "cell_type": "code",
   "execution_count": 9,
   "id": "descending-print",
   "metadata": {},
   "outputs": [],
   "source": [
    "# 三元的情况\n",
    "def triples_helper(basket):\n",
    "    doubles = doubles_support_b.value\n",
    "    singles = singles_support_b.value\n",
    "    ret = []\n",
    "    for i in range(len(basket)):\n",
    "        if basket[i] not in singles:\n",
    "            continue\n",
    "        for j in range(i):\n",
    "            if basket[j] not in singles:\n",
    "                continue\n",
    "            if (basket[j],basket[i]) not in doubles:\n",
    "                continue\n",
    "            for k in range(j):\n",
    "                if basket[k] not in singles:\n",
    "                    continue\n",
    "                if (basket[k],basket[j]) not in doubles:\n",
    "                    continue\n",
    "                if (basket[k],basket[i]) not in doubles:\n",
    "                    continue\n",
    "                ret.append(((basket[k], basket[j], basket[i]), 1))\n",
    "    return ret\n",
    "triples_support = baskets.flatMap(triples_helper).reduceByKey(lambda x,y:x+y).filter(lambda x:x[1]>=100)"
   ]
  },
  {
   "cell_type": "code",
   "execution_count": 10,
   "id": "suspended-casting",
   "metadata": {},
   "outputs": [],
   "source": [
    "def confidence_triples_helper(triple_support):\n",
    "    doubles = doubles_support_b.value\n",
    "    triple, support = triple_support\n",
    "    support = float(support)\n",
    "    u, v, w = triple\n",
    "    uv_w = support / doubles[u, v]\n",
    "    uw_v = support / doubles[u, w]\n",
    "    vw_u = support / doubles[v, w]\n",
    "    return (('(%s, %s) -> %s' % (u, v, w), uv_w),\n",
    "            ('(%s, %s) -> %s' % (u, w, v), uw_v),\n",
    "            ('(%s, %s) -> %s' % (v, w, u), vw_u))\n",
    "\n",
    "\n",
    "triples_conf = triples_support.flatMap(confidence_triples_helper).sortBy(lambda x: (-x[1], x[0]))"
   ]
  },
  {
   "cell_type": "code",
   "execution_count": 11,
   "id": "impossible-software",
   "metadata": {},
   "outputs": [],
   "source": [
    "with open('./2_de.txt', 'w') as f:\n",
    "    f.write(str(doubles_conf.take(5)))\n",
    "    f.write('\\n')\n",
    "    f.write(str(triples_conf.take(5)))"
   ]
  }
 ],
 "metadata": {
  "kernelspec": {
   "display_name": "Python 3",
   "language": "python",
   "name": "python3"
  },
  "language_info": {
   "codemirror_mode": {
    "name": "ipython",
    "version": 3
   },
   "file_extension": ".py",
   "mimetype": "text/x-python",
   "name": "python",
   "nbconvert_exporter": "python",
   "pygments_lexer": "ipython3",
   "version": "3.7.9"
  }
 },
 "nbformat": 4,
 "nbformat_minor": 5
}
