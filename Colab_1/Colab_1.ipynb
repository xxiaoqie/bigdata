{
 "cells": [
  {
   "cell_type": "markdown",
   "metadata": {
    "colab_type": "text",
    "id": "kPt5q27L5557"
   },
   "source": [
    "# Colab 1\n",
    "## Wordcount in Spark"
   ]
  },
  {
   "cell_type": "markdown",
   "metadata": {
    "colab_type": "text",
    "id": "p0-YhEpP_Ds-"
   },
   "source": [
    "### Setup"
   ]
  },
  {
   "cell_type": "markdown",
   "metadata": {
    "colab_type": "text",
    "id": "Zsj5WYpR9QId"
   },
   "source": [
    "Let's setup Spark on your Colab environment.  Run the cell below!"
   ]
  },
  {
   "cell_type": "code",
   "execution_count": 1,
   "metadata": {
    "colab": {},
    "colab_type": "code",
    "id": "k-qHai2252mI"
   },
   "outputs": [],
   "source": [
    "import os\n",
    "\n",
    "os.environ[\"JAVA_HOME\"] = \"C:/Program Files/Java/jdk\""
   ]
  },
  {
   "cell_type": "markdown",
   "metadata": {
    "colab_type": "text",
    "id": "CRaF2A_j_nC7"
   },
   "source": [
    "### Your task"
   ]
  },
  {
   "cell_type": "markdown",
   "metadata": {
    "colab_type": "text",
    "id": "ebLNUxP0_8x3"
   },
   "source": [
    "If you run successfully the setup stage, you are ready to work on the *pg100.txt* file which contains a copy of the complete works of Shakespeare.\n",
    "\n",
    "Write a Spark application which outputs the number of words that start with each letter. This means that for every letter we want to count the total number of (non-unique) words that start with a specific letter. In your implementation **ignore the letter case**, i.e., consider all words as lower case. Also, you can ignore all the words **starting** with a non-alphabetic character."
   ]
  },
  {
   "cell_type": "code",
   "execution_count": 2,
   "metadata": {
    "colab": {},
    "colab_type": "code",
    "id": "xu-e7Ph2_ruG"
   },
   "outputs": [],
   "source": [
    "from pyspark.sql import *\n",
    "from pyspark.sql.functions import *\n",
    "from pyspark import SparkContext\n",
    "import pandas as pd\n",
    "\n",
    "# create the Spark Session\n",
    "spark = SparkSession.builder.getOrCreate()\n",
    "\n",
    "# create the Spark Context\n",
    "sc = spark.sparkContext"
   ]
  },
  {
   "cell_type": "code",
   "execution_count": 4,
   "metadata": {
    "colab": {},
    "colab_type": "code",
    "id": "AuAxGFPFB43Y"
   },
   "outputs": [
    {
     "data": {
      "text/plain": [
       "[('t', 123602),\n",
       " ('a', 84836),\n",
       " ('s', 65705),\n",
       " ('i', 62167),\n",
       " ('h', 60563),\n",
       " ('w', 59597),\n",
       " ('m', 55676),\n",
       " ('b', 45455),\n",
       " ('o', 43494),\n",
       " ('f', 36814),\n",
       " ('c', 34567),\n",
       " ('d', 29713),\n",
       " ('l', 29569),\n",
       " ('p', 27759),\n",
       " ('n', 26759),\n",
       " ('y', 25855),\n",
       " ('g', 20782),\n",
       " ('e', 18697),\n",
       " ('r', 14265),\n",
       " ('k', 9418),\n",
       " ('u', 9170),\n",
       " ('v', 5728),\n",
       " ('j', 3339),\n",
       " ('q', 2377),\n",
       " ('z', 71),\n",
       " ('x', 14)]"
      ]
     },
     "execution_count": 4,
     "metadata": {},
     "output_type": "execute_result"
    }
   ],
   "source": [
    "rdd = sc.textFile('file:///C:/pg100.txt')\n",
    "ws = rdd.flatMap(lambda line:line.split(' '))\n",
    "lt = ws.filter(lambda x:x!=\"\" and x[0].isalpha()).map(lambda x:(x.lower()[0],1))\n",
    "ct = lt.reduceByKey(lambda x,y:x+y)\n",
    "rddlist=ct.collect()\n",
    "sorted(rddlist,key=lambda x:-x[1])"
   ]
  },
  {
   "cell_type": "code",
   "execution_count": 15,
   "metadata": {},
   "outputs": [
    {
     "data": {
      "text/plain": [
       "[('t', 123602),\n",
       " ('a', 84836),\n",
       " ('s', 65705),\n",
       " ('i', 62167),\n",
       " ('h', 60563),\n",
       " ('w', 59597),\n",
       " ('m', 55676),\n",
       " ('b', 45455),\n",
       " ('o', 43494),\n",
       " ('f', 36814),\n",
       " ('c', 34567),\n",
       " ('d', 29713),\n",
       " ('l', 29569),\n",
       " ('p', 27759),\n",
       " ('n', 26759),\n",
       " ('y', 25855),\n",
       " ('g', 20782),\n",
       " ('e', 18697),\n",
       " ('r', 14265),\n",
       " ('k', 9418),\n",
       " ('u', 9170),\n",
       " ('v', 5728),\n",
       " ('j', 3339),\n",
       " ('q', 2377),\n",
       " ('z', 71),\n",
       " ('x', 14)]"
      ]
     },
     "execution_count": 15,
     "metadata": {},
     "output_type": "execute_result"
    }
   ],
   "source": [
    "\n"
   ]
  },
  {
   "cell_type": "code",
   "execution_count": null,
   "metadata": {},
   "outputs": [],
   "source": []
  },
  {
   "cell_type": "code",
   "execution_count": null,
   "metadata": {
    "colab": {},
    "colab_type": "code",
    "id": "7jDCs412ZZcF"
   },
   "outputs": [],
   "source": [
    "# HERE"
   ]
  },
  {
   "cell_type": "code",
   "execution_count": 17,
   "metadata": {},
   "outputs": [
    {
     "data": {
      "text/plain": [
       "[('t', 123602),\n",
       " ('a', 84836),\n",
       " ('s', 65705),\n",
       " ('i', 62167),\n",
       " ('h', 60563),\n",
       " ('w', 59597),\n",
       " ('m', 55676),\n",
       " ('b', 45455),\n",
       " ('o', 43494),\n",
       " ('f', 36814),\n",
       " ('c', 34567),\n",
       " ('d', 29713),\n",
       " ('l', 29569),\n",
       " ('p', 27759),\n",
       " ('n', 26759),\n",
       " ('y', 25855),\n",
       " ('g', 20782),\n",
       " ('e', 18697),\n",
       " ('r', 14265),\n",
       " ('k', 9418),\n",
       " ('u', 9170),\n",
       " ('v', 5728),\n",
       " ('j', 3339),\n",
       " ('q', 2377),\n",
       " ('z', 71),\n",
       " ('x', 14)]"
      ]
     },
     "execution_count": 17,
     "metadata": {},
     "output_type": "execute_result"
    }
   ],
   "source": [
    "sorted(initial_counts, key=lambda x: -x[1])"
   ]
  }
 ],
 "metadata": {
  "colab": {
   "collapsed_sections": [],
   "name": "CS246 - Colab 1.ipynb",
   "provenance": [],
   "toc_visible": true
  },
  "kernelspec": {
   "display_name": "Python 3",
   "language": "python",
   "name": "python3"
  },
  "language_info": {
   "codemirror_mode": {
    "name": "ipython",
    "version": 3
   },
   "file_extension": ".py",
   "mimetype": "text/x-python",
   "name": "python",
   "nbconvert_exporter": "python",
   "pygments_lexer": "ipython3",
   "version": "3.7.9"
  }
 },
 "nbformat": 4,
 "nbformat_minor": 1
}
