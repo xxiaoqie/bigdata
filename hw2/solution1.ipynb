{
 "cells": [
  {
   "cell_type": "code",
   "execution_count": 1,
   "metadata": {},
   "outputs": [],
   "source": [
    "import os\n",
    "os.environ['JAVA_HOME'] = 'C:/Program Files/Java/jdk1.8.0_291'"
   ]
  },
  {
   "cell_type": "code",
   "execution_count": 2,
   "metadata": {
    "scrolled": true
   },
   "outputs": [],
   "source": [
    "from pyspark import SparkConf, SparkContext\n",
    "sc = SparkContext(conf=SparkConf())"
   ]
  },
  {
   "cell_type": "code",
   "execution_count": 3,
   "metadata": {},
   "outputs": [],
   "source": [
    "import numpy as np"
   ]
  },
  {
   "cell_type": "markdown",
   "metadata": {},
   "source": [
    "# 定义距离函数"
   ]
  },
  {
   "cell_type": "code",
   "execution_count": 4,
   "metadata": {},
   "outputs": [],
   "source": [
    "def l2_dist(u, v):\n",
    "    return np.abs((u*u-v*v)).sum()"
   ]
  },
  {
   "cell_type": "code",
   "execution_count": 5,
   "metadata": {},
   "outputs": [],
   "source": [
    "def l1_dist(u, v):\n",
    "    return np.abs((u-v)).sum()"
   ]
  },
  {
   "cell_type": "markdown",
   "metadata": {},
   "source": [
    "# 聚类时将数据点指派给簇的方法"
   ]
  },
  {
   "cell_type": "code",
   "execution_count": 6,
   "metadata": {},
   "outputs": [],
   "source": [
    "# return (cluster, point, cost)\n",
    "def assign_to_cluster(point, centroids, dist_fn):\n",
    "    min_dist = float('inf')\n",
    "    cluster = None\n",
    "    for i, centroid in enumerate(centroids.value):\n",
    "        # TODO: YOUR CODE HERE\n",
    "        dist = dist_fn(point, centroid)\n",
    "        if dist < min_dist:\n",
    "            min_dist = dist\n",
    "            cluster = i\n",
    "    return cluster, point, min_dist"
   ]
  },
  {
   "cell_type": "markdown",
   "metadata": {},
   "source": [
    "# 文件路径"
   ]
  },
  {
   "cell_type": "code",
   "execution_count": 7,
   "metadata": {},
   "outputs": [],
   "source": [
    "data_fname = 'q1/data/data.txt'\n",
    "random_initial_centroids_fname = 'q1/data/c1.txt'\n",
    "far_initial_centroids_fname = 'q1/data/c2.txt'"
   ]
  },
  {
   "cell_type": "markdown",
   "metadata": {},
   "source": [
    "# 加载数据点"
   ]
  },
  {
   "cell_type": "code",
   "execution_count": 8,
   "metadata": {},
   "outputs": [],
   "source": [
    "data = sc.textFile(data_fname)\n",
    "data = data.map(lambda line: np.array([float(value) for value in line.split()]))"
   ]
  },
  {
   "cell_type": "markdown",
   "metadata": {},
   "source": [
    "# 加载初始质心"
   ]
  },
  {
   "cell_type": "code",
   "execution_count": 9,
   "metadata": {},
   "outputs": [],
   "source": [
    "centroids = np.loadtxt(far_initial_centroids_fname)\n",
    "centroids = sc.broadcast(centroids)"
   ]
  },
  {
   "cell_type": "code",
   "execution_count": 10,
   "metadata": {},
   "outputs": [
    {
     "name": "stdout",
     "output_type": "stream",
     "text": [
      "iter 0: cost is 986043280.0149491\n",
      "iter 1: cost is 2252657603.448908\n",
      "iter 2: cost is 2252657603.565752\n",
      "iter 3: cost is 2252657603.565752\n",
      "iter 4: cost is 2252657603.565752\n",
      "iter 5: cost is 2252657603.565752\n",
      "iter 6: cost is 2252657603.565752\n",
      "iter 7: cost is 2252657603.565752\n",
      "iter 8: cost is 2252657603.565752\n",
      "iter 9: cost is 2252657603.565752\n",
      "iter 10: cost is 2252657603.565752\n",
      "iter 11: cost is 2252657603.565752\n",
      "iter 12: cost is 2252657603.565752\n",
      "iter 13: cost is 2252657603.565752\n",
      "iter 14: cost is 2252657603.565752\n",
      "iter 15: cost is 2252657603.565752\n",
      "iter 16: cost is 2252657603.565752\n",
      "iter 17: cost is 2252657603.565752\n",
      "iter 18: cost is 2252657603.565752\n",
      "iter 19: cost is 2252657603.565752\n"
     ]
    }
   ],
   "source": [
    "dist_fn = l2_dist\n",
    "MAX_ITER = 20\n",
    "cost_seq = []\n",
    "for i in range(MAX_ITER):\n",
    "    assignment = data.map(lambda point: assign_to_cluster(point, centroids, dist_fn))\n",
    "    \n",
    "    cost = assignment.map(lambda pc:pc[2]).reduce(lambda a,b:a+b)\n",
    "    print(f'iter {i}: cost is {cost}')\n",
    "    cost_seq.append(cost)\n",
    "\n",
    "    assignment = assignment.map(lambda pc:(pc[0],(pc[1],pc[2])))\n",
    "    assignment = assignment.reduceByKey(lambda a,b:(a[0]+b[0],a[1]+b[1]))\n",
    "    assignment = assignment.mapValues(lambda pc:pc[0]/pc[1])\n",
    "    new_centroids = assignment.map(lambda pc:pc[1]).collect()\n",
    "    \n",
    "    centroids = sc.broadcast(new_centroids)\n"
   ]
  },
  {
   "cell_type": "code",
   "execution_count": null,
   "metadata": {},
   "outputs": [],
   "source": [
    "dist_fn = l1_dist\n",
    "MAX_ITER = 20\n",
    "cost_seq = []\n",
    "for i in range(MAX_ITER):\n",
    "    assignment = data.map(lambda point: assign_to_cluster(point, centroids, dist_fn))\n",
    "    \n",
    "    cost = assignment.map(lambda pc:pc[2     ]).reduce(lambda a,b:a+b)\n",
    "    print(f'iter {i}: cost is {cost}')\n",
    "    cost_seq.append(cost)\n",
    "\n",
    "    assignment = assignment.map(lambda pc:(pc[0],(pc[1],pc[2])))\n",
    "    assignment = assignment.reduceByKey(lambda a,b:(a[0]+b[0],a[1]+b[1]))\n",
    "    assignment = assignment.mapValues(lambda pc:pc[0]/pc[1])\n",
    "    new_centroids = assignment.map(lambda pc:pc[1]).collect()\n",
    "    \n",
    "    centroids = sc.broadcast(new_centroids)"
   ]
  }
 ],
 "metadata": {
  "kernelspec": {
   "display_name": "Python 3",
   "language": "python",
   "name": "python3"
  },
  "language_info": {
   "codemirror_mode": {
    "name": "ipython",
    "version": 3
   },
   "file_extension": ".py",
   "mimetype": "text/x-python",
   "name": "python",
   "nbconvert_exporter": "python",
   "pygments_lexer": "ipython3",
   "version": "3.7.9"
  },
  "name": "q1.ipynb"
 },
 "nbformat": 4,
 "nbformat_minor": 4
}
