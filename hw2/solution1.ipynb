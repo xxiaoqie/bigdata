{
 "cells": [
  {
   "cell_type": "code",
   "execution_count": 1,
   "metadata": {},
   "outputs": [],
   "source": [
    "import os\n",
    "os.environ['JAVA_HOME'] = 'C:/Program Files/Java/jdk1.8.0_291'"
   ]
  },
  {
   "cell_type": "code",
   "execution_count": 2,
   "metadata": {},
   "outputs": [],
   "source": [
    "from pyspark import SparkConf, SparkContext\n",
    "sc = SparkContext(conf=SparkConf())"
   ]
  },
  {
   "cell_type": "code",
   "execution_count": 3,
   "metadata": {},
   "outputs": [],
   "source": [
    "import numpy as np\n",
    "import pylab"
   ]
  },
  {
   "cell_type": "markdown",
   "metadata": {},
   "source": [
    "# 定义距离函数"
   ]
  },
  {
   "cell_type": "code",
   "execution_count": 4,
   "metadata": {},
   "outputs": [],
   "source": [
    "def l2_dist(u, v):\n",
    "    return np.sum((u-v)**2)"
   ]
  },
  {
   "cell_type": "code",
   "execution_count": 5,
   "metadata": {},
   "outputs": [],
   "source": [
    "def l1_dist(u, v):\n",
    "    return np.sum(np.absolute(u - v))"
   ]
  },
  {
   "cell_type": "markdown",
   "metadata": {},
   "source": [
    "# 聚类时将数据点指派给簇的方法"
   ]
  },
  {
   "cell_type": "code",
   "execution_count": 6,
   "metadata": {},
   "outputs": [],
   "source": [
    "# return (cluster, point, cost)\n",
    "def assign_to_cluster(point, centroids, dist_fn):\n",
    "    min_dist = float('inf')\n",
    "    cluster = None\n",
    "    for i, centroid in enumerate(centroids.value):\n",
    "        dist = dist_fn(point, centroid)\n",
    "        if dist < min_dist:\n",
    "            min_dist = dist\n",
    "            cluster = i\n",
    "    return cluster, point, min_dist"
   ]
  },
  {
   "cell_type": "markdown",
   "metadata": {},
   "source": [
    "# 文件路径"
   ]
  },
  {
   "cell_type": "code",
   "execution_count": 7,
   "metadata": {},
   "outputs": [],
   "source": [
    "data_fname = 'q1\\\\data\\\\data.txt'\n",
    "random_initial_centroids_fname = 'q1\\\\data\\\\c1.txt'\n",
    "far_initial_centroids_fname = 'q1\\\\data\\\\c2.txt'"
   ]
  },
  {
   "cell_type": "markdown",
   "metadata": {},
   "source": [
    "# 加载数据点"
   ]
  },
  {
   "cell_type": "code",
   "execution_count": 8,
   "metadata": {},
   "outputs": [],
   "source": [
    "data = sc.textFile(data_fname)\n",
    "data = data.map(lambda line: np.array([float(value) for value in line.split()]))"
   ]
  },
  {
   "cell_type": "markdown",
   "metadata": {},
   "source": [
    "# 加载初始质心"
   ]
  },
  {
   "cell_type": "code",
   "execution_count": 9,
   "metadata": {},
   "outputs": [],
   "source": [
    "far_initial_centroids = np.loadtxt(far_initial_centroids_fname)\n",
    "ran_initial_centroids = np.loadtxt(random_initial_centroids_fname)\n",
    "# centroids = sc.broadcast(centroids)"
   ]
  },
  {
   "cell_type": "code",
   "execution_count": 10,
   "metadata": {},
   "outputs": [
    {
     "name": "stdout",
     "output_type": "stream",
     "text": [
      "far iter 0: cost is 1433739.3099999938\n",
      "ran iter 0: cost is 550117.1420000045\n",
      "far iter 1: cost is 1084488.7769648738\n",
      "ran iter 1: cost is 464829.26840394654\n",
      "far iter 2: cost is 973431.7146620394\n",
      "ran iter 2: cost is 470934.15384668263\n",
      "far iter 3: cost is 895934.5925630673\n",
      "ran iter 3: cost is 483874.81628509297\n",
      "far iter 4: cost is 865128.3352940796\n",
      "ran iter 4: cost is 489234.2347883483\n",
      "far iter 5: cost is 845846.6470313473\n",
      "ran iter 5: cost is 487664.6926267901\n",
      "far iter 6: cost is 827219.5827561237\n",
      "ran iter 6: cost is 483718.66592851654\n",
      "far iter 7: cost is 803590.3456011107\n",
      "ran iter 7: cost is 475337.94763305597\n",
      "far iter 8: cost is 756039.5172761244\n",
      "ran iter 8: cost is 474871.9665496577\n",
      "far iter 9: cost is 717332.9025432297\n",
      "ran iter 9: cost is 457244.78974174923\n",
      "far iter 10: cost is 694587.9252526845\n",
      "ran iter 10: cost is 447493.195604051\n",
      "far iter 11: cost is 684444.5019967925\n",
      "ran iter 11: cost is 450891.8358047716\n",
      "far iter 12: cost is 674574.7475478566\n",
      "ran iter 12: cost is 451232.5774756949\n",
      "far iter 13: cost is 667409.469916026\n",
      "ran iter 13: cost is 451860.12588546367\n",
      "far iter 14: cost is 663556.6278214998\n",
      "ran iter 14: cost is 451567.2235891512\n",
      "far iter 15: cost is 660162.777228758\n",
      "ran iter 15: cost is 452710.0520999444\n",
      "far iter 16: cost is 656041.3222947085\n",
      "ran iter 16: cost is 453078.22696184984\n",
      "far iter 17: cost is 653036.7540731638\n",
      "ran iter 17: cost is 450646.13556209765\n",
      "far iter 18: cost is 651112.4262522653\n",
      "ran iter 18: cost is 450419.97011343326\n",
      "far iter 19: cost is 649689.0131843556\n",
      "ran iter 19: cost is 449009.59037188475\n",
      "far iter 0: cost is 438747790.027918\n",
      "ran iter 0: cost is 623660345.3064235\n",
      "far iter 1: cost is 249803933.62600294\n",
      "ran iter 1: cost is 509862908.29754597\n",
      "far iter 2: cost is 194494814.406314\n",
      "ran iter 2: cost is 485480681.8720084\n",
      "far iter 3: cost is 169804841.45154336\n",
      "ran iter 3: cost is 463997011.6850107\n",
      "far iter 4: cost is 156295748.806276\n",
      "ran iter 4: cost is 460969266.572994\n",
      "far iter 5: cost is 149094208.10896608\n",
      "ran iter 5: cost is 460537847.98277014\n",
      "far iter 6: cost is 142508531.61961588\n",
      "ran iter 6: cost is 460313099.65354246\n",
      "far iter 7: cost is 132303869.40653005\n",
      "ran iter 7: cost is 460003523.8894068\n",
      "far iter 8: cost is 117170969.83719078\n",
      "ran iter 8: cost is 459570539.3177353\n",
      "far iter 9: cost is 108547377.17857017\n",
      "ran iter 9: cost is 459021103.3422901\n",
      "far iter 10: cost is 102237203.31799614\n",
      "ran iter 10: cost is 458490656.1919807\n",
      "far iter 11: cost is 98278015.74975717\n",
      "ran iter 11: cost is 457944232.5879742\n",
      "far iter 12: cost is 95630226.12177444\n",
      "ran iter 12: cost is 457558005.1986797\n",
      "far iter 13: cost is 93793314.05119292\n",
      "ran iter 13: cost is 457290136.3523032\n",
      "far iter 14: cost is 92377131.96821107\n",
      "ran iter 14: cost is 457050555.0595638\n",
      "far iter 15: cost is 91541606.25423913\n",
      "ran iter 15: cost is 456892235.6153574\n",
      "far iter 16: cost is 91045573.83042423\n",
      "ran iter 16: cost is 456703630.7370357\n",
      "far iter 17: cost is 90752240.10140839\n",
      "ran iter 17: cost is 456404203.0189769\n",
      "far iter 18: cost is 90470170.18122767\n",
      "ran iter 18: cost is 456177800.54199505\n",
      "far iter 19: cost is 90216416.17563146\n",
      "ran iter 19: cost is 455986871.0273484\n"
     ]
    },
    {
     "data": {
      "image/png": "[encoded data removed]",
      "text/plain": [
       "<Figure size 432x288 with 2 Axes>"
      ]
     },
     "metadata": {
      "needs_background": "light"
     },
     "output_type": "display_data"
    }
   ],
   "source": [
    "MAX_ITER = 20\n",
    "for j, dist_fn in enumerate([l1_dist, l2_dist]):\n",
    "    pylab.subplot(1, 2, j+1)\n",
    "    pylab.xlabel('iter')\n",
    "    pylab.ylabel('cost')\n",
    "    pylab.title(dist_fn.__name__)\n",
    "    far_cost_seq = []\n",
    "    ran_cost_seq = []\n",
    "    far_centroids = sc.broadcast(far_initial_centroids)\n",
    "    ran_centroids = sc.broadcast(ran_initial_centroids)\n",
    "    for i in range(MAX_ITER):\n",
    "        # (cluster, point, min_dist)\n",
    "        far_assignment = data.map(lambda point: assign_to_cluster(point, far_centroids, dist_fn))\n",
    "        ran_assignment = data.map(lambda point: assign_to_cluster(point, ran_centroids, dist_fn))\n",
    "        \n",
    "        far_cost = sum(far_assignment.map(lambda pc:pc[2]).collect())\n",
    "        ran_cost = sum(ran_assignment.map(lambda pc:pc[2]).collect())\n",
    "        print(f'far iter {i}: cost is {far_cost}')\n",
    "        print(f'ran iter {i}: cost is {ran_cost}')\n",
    "        far_cost_seq.append(far_cost)\n",
    "        ran_cost_seq.append(ran_cost)\n",
    "\n",
    "        new_far_centroids = far_assignment.map(lambda pc:(pc[0],(pc[1],1)))\\\n",
    "                                        .reduceByKey(lambda a,b:(a[0]+b[0],a[1]+b[1]))\\\n",
    "                                        .mapValues(lambda pc:pc[0]/pc[1])\\\n",
    "                                        .map(lambda pc:pc[1])\\\n",
    "                                        .collect()\n",
    "\n",
    "        new_ran_centroids = ran_assignment.map(lambda pc:(pc[0],(pc[1],1)))\\\n",
    "                                        .reduceByKey(lambda a,b:(a[0]+b[0],a[1]+b[1]))\\\n",
    "                                        .mapValues(lambda pc:pc[0]/pc[1])\\\n",
    "                                        .map(lambda pc:pc[1])\\\n",
    "                                        .collect()\n",
    "\n",
    "        ran_centroids = sc.broadcast(new_ran_centroids)\n",
    "        far_centroids = sc.broadcast(new_far_centroids)\n",
    "    pylab.plot(range(MAX_ITER), far_cost_seq, 'b-', label='far')\n",
    "    pylab.plot(range(MAX_ITER), ran_cost_seq, 'g-', label='ran')\n",
    "    pylab.legend()\n",
    "    \n",
    "pylab.show()"
   ]
  },
  {
   "cell_type": "code",
   "execution_count": null,
   "metadata": {},
   "outputs": [],
   "source": []
  }
 ],
 "metadata": {
  "kernelspec": {
   "display_name": "Python 3",
   "language": "python",
   "name": "python3"
  },
  "language_info": {
   "codemirror_mode": {
    "name": "ipython",
    "version": 3
   },
   "file_extension": ".py",
   "mimetype": "text/x-python",
   "name": "python",
   "nbconvert_exporter": "python",
   "pygments_lexer": "ipython3",
   "version": "3.7.9"
  },
  "name": "q1.ipynb"
 },
 "nbformat": 4,
 "nbformat_minor": 4
}
