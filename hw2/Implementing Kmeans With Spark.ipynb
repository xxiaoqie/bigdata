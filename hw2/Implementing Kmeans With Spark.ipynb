{
 "cells": [
  {
   "cell_type": "code",
   "execution_count": 1,
   "metadata": {},
   "outputs": [],
   "source": [
    "from pyspark import SparkConf, SparkContext\n",
    "sc = SparkContext.getOrCreate()"
   ]
  },
  {
   "cell_type": "code",
   "execution_count": 2,
   "metadata": {},
   "outputs": [],
   "source": [
    "import numpy as np"
   ]
  },
  {
   "cell_type": "code",
   "execution_count": 3,
   "metadata": {},
   "outputs": [],
   "source": [
    "%matplotlib inline\n",
    "\n",
    "import matplotlib\n",
    "import matplotlib.pyplot as plt\n"
   ]
  },
  {
   "cell_type": "code",
   "execution_count": 4,
   "metadata": {},
   "outputs": [],
   "source": []
  },
  {
   "cell_type": "code",
   "execution_count": null,
   "metadata": {},
   "outputs": [],
   "source": []
  },
  {
   "cell_type": "code",
   "execution_count": 5,
   "metadata": {},
   "outputs": [],
   "source": [
    "# Converting textfile to a numpy array of float type\n",
    "def parse(line):\n",
    "    return np.array([float(x) for x in line.split(' ')])\n",
    "\n",
    "def Euclidean_distance(point1, point2):\n",
    "    return np.sum((point1 - point2) ** 2)\n",
    "\n",
    "def Manhattan_distance(point1, point2):\n",
    "    return np.sum(np.absolute(point1 - point2))\n",
    "\n",
    "# Find the closest center for the given point\n",
    "def find_closest_center(point, centers, type_dis='E'):\n",
    "    bestIndex = 0\n",
    "    closest_distance = float(\"inf\")\n",
    "    for i in range(len(centers)):\n",
    "        \n",
    "        tempDist = Euclidean_distance(point ,centers[i]) if type_dis=='E' else Manhattan_distance(point ,centers[i])\n",
    "        if tempDist < closest_distance:\n",
    "            closest_distance = tempDist\n",
    "            bestIndex = i\n",
    "    return bestIndex\n",
    "\n",
    "# (centroid,(p,1))\n",
    "def cost(point, centers, cost_type = 'E'):\n",
    "    if cost_type =='E':\n",
    "        return Euclidean_distance(point[1][0], centers[point[0]])\n",
    "    else:\n",
    "        return Manhattan_distance(point[1][0], centers[point[0]])"
   ]
  },
  {
   "cell_type": "code",
   "execution_count": 6,
   "metadata": {},
   "outputs": [],
   "source": [
    "data_lines = sc.textFile('q1\\\\data\\\\data.txt')\n",
    "c1_lines = sc.textFile('q1\\\\data\\\\c1.txt')\n",
    "c2_lines = sc.textFile('q1\\\\data\\\\c2.txt')"
   ]
  },
  {
   "cell_type": "code",
   "execution_count": 7,
   "metadata": {},
   "outputs": [],
   "source": [
    "data = data_lines.map(parse).cache()\n",
    "c1 = c1_lines.map(parse).collect()\n",
    "c2 = c2_lines.map(parse).collect()"
   ]
  },
  {
   "cell_type": "code",
   "execution_count": 23,
   "metadata": {},
   "outputs": [],
   "source": [
    "def kmeans(data, centers, max_iter, type_dis='E'):\n",
    "    kmeans_cost = np.zeros(max_iter)\n",
    "    for i in range(max_iter):\n",
    "        if((i+1)%5 == 0):\n",
    "            print(\"Iteration #{}\".format(i+1))\n",
    "        closest = data.map(lambda p: (find_closest_center(p, centers, type_dis), (p, 1)))\n",
    "        kmeans_cost[i] = sum(closest.map(lambda p: cost(p, centers, type_dis)).collect())\n",
    "        pointStats = closest.reduceByKey(lambda p1_c1, p2_c2: (p1_c1[0] + p2_c2[0], p1_c1[1] + p2_c2[1]))\n",
    "        newPoints = pointStats.map(lambda st: (st[0], st[1][0] / st[1][1])).collect()\n",
    "        for (j, p) in newPoints:\n",
    "                centers[j] = p\n",
    "    \n",
    "    return kmeans_cost"
   ]
  },
  {
   "cell_type": "code",
   "execution_count": 25,
   "metadata": {},
   "outputs": [
    {
     "name": "stdout",
     "output_type": "stream",
     "text": [
      "Iteration #5\n",
      "First five costs after running kmeans by Manhattan distance on c2 clusters are [1433739.30999999 1084488.77696487  973431.71466204  895934.59256307\n",
      "  865128.33529408]\n",
      "Iteration #5\n",
      "First five costs after running kmeans by Manhattan distance on c1 clusters are [485419.19007333 489575.80854096 490327.53969447 490079.30003551\n",
      " 478290.86962211]\n",
      "Iteration #5\n",
      "Iteration #5\n",
      "First five costs after running kmeans by Euclidean distance on c1 clusters are [4.21203499e+08 3.17476756e+08 2.15588160e+08 2.00736514e+08\n",
      " 2.00193188e+08]\n",
      "First five costs after running kmeans by Euclidean distance on c2 clusters are [1.61826756e+08 1.50100431e+08 1.37276023e+08 1.20889506e+08\n",
      " 1.11674993e+08]\n"
     ]
    }
   ],
   "source": [
    "max_iter = 5\n",
    "cost_c2_M = kmeans(data, c2, max_iter, 'M')\n",
    "print(\"First five costs after running kmeans by Manhattan distance on c2 clusters are {}\".format(cost_c2_M[0:5]))\n",
    "cost_c1_M = kmeans(data, c1, max_iter, 'M')\n",
    "print(\"First five costs after running kmeans by Manhattan distance on c1 clusters are {}\".format(cost_c1_M[0:5]))\n",
    "cost_c1_E = kmeans(data, c1, max_iter, 'E')\n",
    "cost_c2_E = kmeans(data, c2, max_iter, 'E')\n",
    "print(\"First five costs after running kmeans by Euclidean distance on c1 clusters are {}\".format(cost_c1_E[0:5]))\n",
    "print(\"First five costs after running kmeans by Euclidean distance on c2 clusters are {}\".format(cost_c2_E[0:5]))\n"
   ]
  },
  {
   "cell_type": "code",
   "execution_count": 26,
   "metadata": {},
   "outputs": [
    {
     "data": {
      "text/plain": [
       "<matplotlib.legend.Legend at 0x26e52c9b908>"
      ]
     },
     "execution_count": 26,
     "metadata": {},
     "output_type": "execute_result"
    },
    {
     "data": {
      "image/png": "[encoded data removed]",
      "text/plain": [
       "<Figure size 576x432 with 1 Axes>"
      ]
     },
     "metadata": {
      "needs_background": "light"
     },
     "output_type": "display_data"
    }
   ],
   "source": [
    "fig, ax = plt.subplots(1,1, figsize =(8,6))\n",
    "ax.plot(range(0,max_iter),cost_c1_E, 'bo', label='Cost with c1 initialization')\n",
    "ax.plot(range(0,max_iter),cost_c1_E, 'k', color='blue')\n",
    "ax.plot(range(0,max_iter),cost_c2_E, 'bo', color='red', label='Cost with c2 initialization')\n",
    "ax.plot(range(0,max_iter),cost_c2_E, 'k', color='red')\n",
    "ax.set_xlabel('Iteration',fontsize=16)\n",
    "ax.set_ylabel('cost',fontsize=16)\n",
    "ax.set_title('Cost of kmeans using different initialization methonds by Euclidean distance', fontsize=14)\n",
    "ax.grid(True)\n",
    "ax.legend()"
   ]
  },
  {
   "cell_type": "code",
   "execution_count": 27,
   "metadata": {
    "scrolled": false
   },
   "outputs": [
    {
     "data": {
      "text/plain": [
       "<matplotlib.legend.Legend at 0x26e53e53d08>"
      ]
     },
     "execution_count": 27,
     "metadata": {},
     "output_type": "execute_result"
    },
    {
     "data": {
      "image/png": "[encoded data removed]",
      "text/plain": [
       "<Figure size 576x432 with 1 Axes>"
      ]
     },
     "metadata": {
      "needs_background": "light"
     },
     "output_type": "display_data"
    }
   ],
   "source": [
    "fig, ax = plt.subplots(1,1, figsize =(8,6))\n",
    "ax.plot(range(0,max_iter),cost_c1_M, 'bo', label='Cost with c1 initialization')\n",
    "ax.plot(range(0,max_iter),cost_c1_M, 'k', color='blue')\n",
    "ax.plot(range(0,max_iter),cost_c2_M, 'bo', color='red', label='Cost with c2 initialization')\n",
    "ax.plot(range(0,max_iter),cost_c2_M, 'k', color='red')\n",
    "ax.set_xlabel('Iteration',fontsize=16)\n",
    "ax.set_ylabel('cost',fontsize=16)\n",
    "ax.set_title('Cost of kmeans using different initialization methonds by Manhattan distance', fontsize=14)\n",
    "ax.grid(True)\n",
    "ax.legend()"
   ]
  },
  {
   "cell_type": "code",
   "execution_count": 13,
   "metadata": {},
   "outputs": [
    {
     "data": {
      "text/plain": [
       "inf"
      ]
     },
     "execution_count": 13,
     "metadata": {},
     "output_type": "execute_result"
    }
   ],
   "source": []
  },
  {
   "cell_type": "code",
   "execution_count": 8,
   "metadata": {},
   "outputs": [
    {
     "data": {
      "text/plain": [
       "[array([  0.   ,   0.64 ,   0.64 ,   0.   ,   0.32 ,   0.   ,   0.   ,\n",
       "          0.   ,   0.   ,   0.   ,   0.   ,   0.64 ,   0.   ,   0.   ,\n",
       "          0.   ,   0.32 ,   0.   ,   1.29 ,   1.93 ,   0.   ,   0.96 ,\n",
       "          0.   ,   0.   ,   0.   ,   0.   ,   0.   ,   0.   ,   0.   ,\n",
       "          0.   ,   0.   ,   0.   ,   0.   ,   0.   ,   0.   ,   0.   ,\n",
       "          0.   ,   0.   ,   0.   ,   0.   ,   0.   ,   0.   ,   0.   ,\n",
       "          0.   ,   0.   ,   0.   ,   0.   ,   0.   ,   0.   ,   0.   ,\n",
       "          0.   ,   0.   ,   0.778,   0.   ,   0.   ,   3.756,  61.   ,\n",
       "        278.   ,   1.   ]),\n",
       " array([1.9000e-01, 0.0000e+00, 3.8000e-01, 0.0000e+00, 0.0000e+00,\n",
       "        1.9000e-01, 0.0000e+00, 0.0000e+00, 0.0000e+00, 0.0000e+00,\n",
       "        1.9000e-01, 1.9000e-01, 0.0000e+00, 0.0000e+00, 0.0000e+00,\n",
       "        3.8000e-01, 0.0000e+00, 1.9000e-01, 1.1400e+00, 0.0000e+00,\n",
       "        3.8000e-01, 0.0000e+00, 0.0000e+00, 0.0000e+00, 0.0000e+00,\n",
       "        0.0000e+00, 0.0000e+00, 0.0000e+00, 0.0000e+00, 0.0000e+00,\n",
       "        0.0000e+00, 0.0000e+00, 0.0000e+00, 0.0000e+00, 0.0000e+00,\n",
       "        0.0000e+00, 0.0000e+00, 0.0000e+00, 0.0000e+00, 0.0000e+00,\n",
       "        0.0000e+00, 0.0000e+00, 0.0000e+00, 0.0000e+00, 0.0000e+00,\n",
       "        0.0000e+00, 0.0000e+00, 0.0000e+00, 1.0000e-02, 1.0000e-02,\n",
       "        0.0000e+00, 0.0000e+00, 0.0000e+00, 3.0000e-03, 2.3830e+00,\n",
       "        2.1000e+01, 1.5841e+04, 1.0000e+00]),\n",
       " array([0.00000e+00, 0.00000e+00, 0.00000e+00, 4.00000e-02, 0.00000e+00,\n",
       "        0.00000e+00, 0.00000e+00, 0.00000e+00, 0.00000e+00, 0.00000e+00,\n",
       "        0.00000e+00, 0.00000e+00, 0.00000e+00, 0.00000e+00, 0.00000e+00,\n",
       "        2.00000e-02, 0.00000e+00, 0.00000e+00, 2.00000e-02, 0.00000e+00,\n",
       "        0.00000e+00, 0.00000e+00, 0.00000e+00, 0.00000e+00, 0.00000e+00,\n",
       "        0.00000e+00, 0.00000e+00, 0.00000e+00, 0.00000e+00, 0.00000e+00,\n",
       "        0.00000e+00, 0.00000e+00, 0.00000e+00, 0.00000e+00, 0.00000e+00,\n",
       "        0.00000e+00, 0.00000e+00, 0.00000e+00, 0.00000e+00, 0.00000e+00,\n",
       "        0.00000e+00, 0.00000e+00, 0.00000e+00, 0.00000e+00, 0.00000e+00,\n",
       "        0.00000e+00, 0.00000e+00, 0.00000e+00, 1.02400e+00, 9.75200e+00,\n",
       "        3.00000e-03, 1.54200e+00, 1.78500e+00, 1.99800e+00, 2.39571e+02,\n",
       "        9.98900e+03, 1.00620e+04, 1.00000e+00]),\n",
       " array([2.9000e-01, 4.0000e-02, 4.0000e-02, 0.0000e+00, 1.4000e-01,\n",
       "        4.0000e-02, 0.0000e+00, 2.9000e-01, 2.9000e-01, 9.4000e-01,\n",
       "        1.4000e-01, 4.0000e-02, 1.4000e-01, 0.0000e+00, 1.9000e-01,\n",
       "        4.0000e-02, 3.9000e-01, 1.9000e-01, 1.6000e+00, 4.0000e-02,\n",
       "        7.9000e-01, 9.5300e+00, 6.9000e-01, 4.7000e-01, 0.0000e+00,\n",
       "        0.0000e+00, 0.0000e+00, 0.0000e+00, 0.0000e+00, 0.0000e+00,\n",
       "        0.0000e+00, 0.0000e+00, 0.0000e+00, 0.0000e+00, 0.0000e+00,\n",
       "        4.0000e-02, 0.0000e+00, 0.0000e+00, 4.0000e-02, 0.0000e+00,\n",
       "        0.0000e+00, 0.0000e+00, 0.0000e+00, 0.0000e+00, 1.9000e-01,\n",
       "        0.0000e+00, 0.0000e+00, 0.0000e+00, 1.1170e+00, 5.3000e-02,\n",
       "        0.0000e+00, 3.5600e-01, 9.0000e-02, 1.1000e-02, 1.2332e+01,\n",
       "        1.1710e+03, 9.1630e+03, 1.0000e+00]),\n",
       " array([1.000e-02, 1.000e-02, 7.000e-02, 0.000e+00, 5.000e-02, 0.000e+00,\n",
       "        0.000e+00, 1.000e-02, 3.000e-02, 1.300e-01, 5.000e-02, 0.000e+00,\n",
       "        0.000e+00, 5.000e-02, 0.000e+00, 0.000e+00, 1.000e-02, 7.000e-02,\n",
       "        1.000e-02, 0.000e+00, 1.000e-02, 0.000e+00, 0.000e+00, 0.000e+00,\n",
       "        0.000e+00, 0.000e+00, 0.000e+00, 0.000e+00, 0.000e+00, 0.000e+00,\n",
       "        0.000e+00, 0.000e+00, 7.000e-02, 0.000e+00, 0.000e+00, 1.300e-01,\n",
       "        0.000e+00, 0.000e+00, 0.000e+00, 1.000e-02, 4.600e-01, 0.000e+00,\n",
       "        0.000e+00, 3.000e-02, 0.000e+00, 8.000e-01, 1.000e-02, 7.000e-02,\n",
       "        5.000e-02, 3.010e-01, 1.310e-01, 2.000e-03, 9.000e-02, 2.000e-03,\n",
       "        2.577e+00, 8.200e+01, 5.395e+03, 0.000e+00]),\n",
       " array([2.0000e-01, 8.1000e-01, 6.1000e-01, 0.0000e+00, 0.0000e+00,\n",
       "        0.0000e+00, 0.0000e+00, 0.0000e+00, 2.0000e-01, 0.0000e+00,\n",
       "        0.0000e+00, 4.0000e-01, 0.0000e+00, 0.0000e+00, 0.0000e+00,\n",
       "        2.0000e-01, 0.0000e+00, 0.0000e+00, 2.0000e-01, 0.0000e+00,\n",
       "        2.0000e-01, 0.0000e+00, 0.0000e+00, 4.0000e-01, 0.0000e+00,\n",
       "        0.0000e+00, 0.0000e+00, 0.0000e+00, 0.0000e+00, 0.0000e+00,\n",
       "        0.0000e+00, 0.0000e+00, 0.0000e+00, 0.0000e+00, 0.0000e+00,\n",
       "        0.0000e+00, 0.0000e+00, 0.0000e+00, 0.0000e+00, 0.0000e+00,\n",
       "        0.0000e+00, 0.0000e+00, 0.0000e+00, 0.0000e+00, 0.0000e+00,\n",
       "        0.0000e+00, 0.0000e+00, 0.0000e+00, 0.0000e+00, 0.0000e+00,\n",
       "        0.0000e+00, 8.3100e-01, 3.3800e-01, 3.0000e-02, 1.1025e+03,\n",
       "        2.2040e+03, 2.2050e+03, 1.0000e+00]),\n",
       " array([7.000e-02, 0.000e+00, 1.500e-01, 0.000e+00, 9.000e-02, 5.000e-02,\n",
       "        0.000e+00, 3.000e-02, 5.000e-02, 5.000e-02, 0.000e+00, 4.100e-01,\n",
       "        3.000e-02, 0.000e+00, 0.000e+00, 1.000e-02, 9.000e-02, 1.300e-01,\n",
       "        3.000e-02, 1.000e-02, 7.000e-02, 0.000e+00, 1.000e-02, 0.000e+00,\n",
       "        0.000e+00, 0.000e+00, 3.000e-02, 0.000e+00, 1.000e-02, 0.000e+00,\n",
       "        0.000e+00, 0.000e+00, 1.210e+00, 0.000e+00, 0.000e+00, 7.000e-02,\n",
       "        9.500e-01, 0.000e+00, 1.000e-02, 1.100e-01, 1.300e-01, 1.000e-02,\n",
       "        0.000e+00, 0.000e+00, 0.000e+00, 3.900e-01, 3.000e-02, 5.100e-01,\n",
       "        4.200e-02, 1.730e-01, 2.000e-03, 8.000e-03, 5.000e-03, 2.000e-03,\n",
       "        2.145e+00, 7.100e+01, 2.954e+03, 0.000e+00]),\n",
       " array([3.3000e-01, 0.0000e+00, 1.6500e+00, 0.0000e+00, 9.9000e-01,\n",
       "        0.0000e+00, 3.3000e-01, 0.0000e+00, 6.6000e-01, 1.3200e+00,\n",
       "        0.0000e+00, 0.0000e+00, 0.0000e+00, 0.0000e+00, 0.0000e+00,\n",
       "        0.0000e+00, 0.0000e+00, 0.0000e+00, 3.3000e-01, 9.9000e-01,\n",
       "        6.6000e-01, 0.0000e+00, 0.0000e+00, 0.0000e+00, 3.3000e-01,\n",
       "        0.0000e+00, 0.0000e+00, 0.0000e+00, 0.0000e+00, 0.0000e+00,\n",
       "        0.0000e+00, 0.0000e+00, 0.0000e+00, 0.0000e+00, 0.0000e+00,\n",
       "        0.0000e+00, 0.0000e+00, 0.0000e+00, 0.0000e+00, 0.0000e+00,\n",
       "        0.0000e+00, 0.0000e+00, 0.0000e+00, 0.0000e+00, 0.0000e+00,\n",
       "        0.0000e+00, 0.0000e+00, 0.0000e+00, 0.0000e+00, 0.0000e+00,\n",
       "        0.0000e+00, 8.5900e-01, 1.0100e-01, 0.0000e+00, 3.3725e+02,\n",
       "        1.1460e+03, 1.3490e+03, 1.0000e+00]),\n",
       " array([0.000e+00, 0.000e+00, 4.600e-01, 0.000e+00, 0.000e+00, 0.000e+00,\n",
       "        0.000e+00, 1.500e-01, 0.000e+00, 0.000e+00, 0.000e+00, 1.500e-01,\n",
       "        0.000e+00, 0.000e+00, 0.000e+00, 0.000e+00, 0.000e+00, 4.600e-01,\n",
       "        9.300e-01, 0.000e+00, 0.000e+00, 0.000e+00, 4.600e-01, 0.000e+00,\n",
       "        0.000e+00, 0.000e+00, 0.000e+00, 0.000e+00, 0.000e+00, 0.000e+00,\n",
       "        0.000e+00, 0.000e+00, 0.000e+00, 0.000e+00, 0.000e+00, 1.500e-01,\n",
       "        0.000e+00, 0.000e+00, 0.000e+00, 9.300e-01, 0.000e+00, 0.000e+00,\n",
       "        0.000e+00, 0.000e+00, 0.000e+00, 0.000e+00, 0.000e+00, 0.000e+00,\n",
       "        7.100e-02, 7.100e-02, 0.000e+00, 9.500e-02, 2.300e-02, 0.000e+00,\n",
       "        6.275e+01, 1.505e+03, 2.761e+03, 1.000e+00]),\n",
       " array([5.000e-01, 2.500e-01, 4.200e-01, 0.000e+00, 8.000e-02, 2.300e-01,\n",
       "        2.000e-02, 3.500e-01, 3.500e-01, 6.900e-01, 2.100e-01, 9.000e-01,\n",
       "        5.000e-01, 9.200e-01, 2.000e-02, 3.300e-01, 4.200e-01, 2.000e-02,\n",
       "        3.050e+00, 0.000e+00, 1.430e+00, 0.000e+00, 9.400e-01, 4.600e-01,\n",
       "        0.000e+00, 0.000e+00, 0.000e+00, 0.000e+00, 0.000e+00, 0.000e+00,\n",
       "        0.000e+00, 0.000e+00, 0.000e+00, 0.000e+00, 0.000e+00, 0.000e+00,\n",
       "        0.000e+00, 0.000e+00, 0.000e+00, 2.000e-02, 0.000e+00, 0.000e+00,\n",
       "        0.000e+00, 0.000e+00, 2.000e-02, 0.000e+00, 2.000e-02, 0.000e+00,\n",
       "        0.000e+00, 6.900e-02, 0.000e+00, 3.250e-01, 5.230e-01, 1.240e-01,\n",
       "        6.723e+00, 4.450e+02, 4.128e+03, 1.000e+00])]"
      ]
     },
     "execution_count": 8,
     "metadata": {},
     "output_type": "execute_result"
    }
   ],
   "source": [
    "c2"
   ]
  },
  {
   "cell_type": "code",
   "execution_count": null,
   "metadata": {},
   "outputs": [],
   "source": []
  }
 ],
 "metadata": {
  "kernelspec": {
   "display_name": "Python 3",
   "language": "python",
   "name": "python3"
  },
  "language_info": {
   "codemirror_mode": {
    "name": "ipython",
    "version": 3
   },
   "file_extension": ".py",
   "mimetype": "text/x-python",
   "name": "python",
   "nbconvert_exporter": "python",
   "pygments_lexer": "ipython3",
   "version": "3.7.9"
  }
 },
 "nbformat": 4,
 "nbformat_minor": 2
}
