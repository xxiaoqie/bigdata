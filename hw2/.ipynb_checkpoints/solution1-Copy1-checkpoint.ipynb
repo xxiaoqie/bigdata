{
 "cells": [
  {
   "cell_type": "code",
   "execution_count": 1,
   "metadata": {},
   "outputs": [],
   "source": [
    "import os\n",
    "os.environ['JAVA_HOME'] = 'C:/Program Files/Java/jdk1.8.0_291'"
   ]
  },
  {
   "cell_type": "code",
   "execution_count": 2,
   "metadata": {
    "scrolled": true
   },
   "outputs": [],
   "source": [
    "from pyspark import SparkConf, SparkContext\n",
    "sc = SparkContext(conf=SparkConf())"
   ]
  },
  {
   "cell_type": "code",
   "execution_count": 3,
   "metadata": {},
   "outputs": [],
   "source": [
    "import numpy as np\n",
    "import pylab"
   ]
  },
  {
   "cell_type": "markdown",
   "metadata": {},
   "source": [
    "# 定义距离函数"
   ]
  },
  {
   "cell_type": "code",
   "execution_count": 4,
   "metadata": {},
   "outputs": [],
   "source": [
    "def l2_dist(u, v):\n",
    "    return np.abs((u*u-v*v)).sum()"
   ]
  },
  {
   "cell_type": "code",
   "execution_count": 5,
   "metadata": {},
   "outputs": [],
   "source": [
    "def l1_dist(u, v):\n",
    "    return np.abs((u-v)).sum()"
   ]
  },
  {
   "cell_type": "markdown",
   "metadata": {},
   "source": [
    "# 聚类时将数据点指派给簇的方法"
   ]
  },
  {
   "cell_type": "code",
   "execution_count": 6,
   "metadata": {},
   "outputs": [],
   "source": [
    "# return (cluster, point, cost)\n",
    "def assign_to_cluster(point, centroids, dist_fn):\n",
    "    min_dist = float('inf')\n",
    "    cluster = None\n",
    "    for i, centroid in enumerate(centroids.value):\n",
    "        # TODO: YOUR CODE HERE\n",
    "        dist = dist_fn(point, centroid)\n",
    "        if dist < min_dist:\n",
    "            min_dist = dist\n",
    "            cluster = i\n",
    "    return cluster, point, min_dist"
   ]
  },
  {
   "cell_type": "markdown",
   "metadata": {},
   "source": [
    "# 文件路径"
   ]
  },
  {
   "cell_type": "code",
   "execution_count": 7,
   "metadata": {},
   "outputs": [],
   "source": [
    "data_fname = 'q1/data/data.txt'\n",
    "random_initial_centroids_fname = 'q1/data/c1.txt'\n",
    "far_initial_centroids_fname = 'q1/data/c2.txt'"
   ]
  },
  {
   "cell_type": "markdown",
   "metadata": {},
   "source": [
    "# 加载数据点"
   ]
  },
  {
   "cell_type": "code",
   "execution_count": 8,
   "metadata": {},
   "outputs": [],
   "source": [
    "data = sc.textFile(data_fname)\n",
    "data = data.map(lambda line: np.array([float(value) for value in line.split()]))"
   ]
  },
  {
   "cell_type": "markdown",
   "metadata": {},
   "source": [
    "# 加载初始质心"
   ]
  },
  {
   "cell_type": "code",
   "execution_count": 9,
   "metadata": {},
   "outputs": [],
   "source": [
    "init_far_centroids = np.loadtxt(far_initial_centroids_fname)\n",
    "init_ran_centroids = np.loadtxt(random_initial_centroids_fname)\n",
    "# centroids = sc.broadcast(centroids)"
   ]
  },
  {
   "cell_type": "code",
   "execution_count": 10,
   "metadata": {},
   "outputs": [
    {
     "data": {
      "image/png": "[encoded data removed]",
      "text/plain": [
       "<Figure size 432x288 with 2 Axes>"
      ]
     },
     "metadata": {
      "needs_background": "light"
     },
     "output_type": "display_data"
    }
   ],
   "source": [
    "MAX_ITER = 20\n",
    "for j, dist_fn in enumerate([l1_dist, l2_dist]):\n",
    "    pylab.subplot(1, 2, j+1)\n",
    "    pylab.xlabel('iter')\n",
    "    pylab.ylabel('cost')\n",
    "    pylab.title(dist_fn.__name__)\n",
    "    far_cost_seq = []\n",
    "    ran_cost_seq = []\n",
    "    far_centroids = sc.broadcast(init_far_centroids)\n",
    "    ran_centroids = sc.broadcast(init_ran_centroids)\n",
    "    for i in range(MAX_ITER):\n",
    "        # (cluster, point, min_dist)\n",
    "        far_assignment = data.map(lambda point: assign_to_cluster(point, far_centroids, dist_fn))\n",
    "        ran_assignment = data.map(lambda point: assign_to_cluster(point, ran_centroids, dist_fn))\n",
    "        \n",
    "        far_cost = far_assignment.map(lambda pc:pc[2]).reduce(lambda a,b:a+b)\n",
    "        ran_cost = ran_assignment.map(lambda pc:pc[2]).reduce(lambda a,b:a+b)\n",
    "#         print(f'far iter {i}: cost is {far_cost}')\n",
    "#         print(f'ran iter {i}: cost is {ran_cost}')\n",
    "        far_cost_seq.append(far_cost)\n",
    "        ran_cost_seq.append(ran_cost)\n",
    "\n",
    "        new_far_centroids = far_assignment.map(lambda pc:(pc[0],(pc[1],1)))\\\n",
    "                                        .reduceByKey(lambda a,b:(a[0]+b[0],a[1]+b[1]))\\\n",
    "                                        .mapValues(lambda pc:pc[0]/pc[1])\\\n",
    "                                        .map(lambda pc:pc[1])\\\n",
    "                                        .collect()\n",
    "\n",
    "        new_ran_centroids = ran_assignment.map(lambda pc:(pc[0],(pc[1],1)))\\\n",
    "                                        .reduceByKey(lambda a,b:(a[0]+b[0],a[1]+b[1]))\\\n",
    "                                        .mapValues(lambda pc:pc[0]/pc[1])\\\n",
    "                                        .map(lambda pc:pc[1])\\\n",
    "                                        .collect()\n",
    "\n",
    "        ran_centroids = sc.broadcast(new_ran_centroids)\n",
    "        far_centroids = sc.broadcast(new_far_centroids)\n",
    "    pylab.plot(range(MAX_ITER), far_cost_seq, 'b-', label='far')\n",
    "    pylab.plot(range(MAX_ITER), ran_cost_seq, 'g-', label='ran')\n",
    "    pylab.legend()\n",
    "    \n",
    "pylab.show()\n",
    "    "
   ]
  },
  {
   "cell_type": "code",
   "execution_count": null,
   "metadata": {},
   "outputs": [],
   "source": []
  }
 ],
 "metadata": {
  "kernelspec": {
   "display_name": "Python 3",
   "language": "python",
   "name": "python3"
  },
  "language_info": {
   "codemirror_mode": {
    "name": "ipython",
    "version": 3
   },
   "file_extension": ".py",
   "mimetype": "text/x-python",
   "name": "python",
   "nbconvert_exporter": "python",
   "pygments_lexer": "ipython3",
   "version": "3.7.9"
  },
  "name": "q1.ipynb"
 },
 "nbformat": 4,
 "nbformat_minor": 4
}
