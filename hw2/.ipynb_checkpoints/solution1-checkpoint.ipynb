{
 "cells": [
  {
   "cell_type": "code",
   "execution_count": 15,
   "metadata": {},
   "outputs": [],
   "source": [
    "import os\n",
    "os.environ['JAVA_HOME'] = ''"
   ]
  },
  {
   "cell_type": "code",
   "execution_count": 1,
   "metadata": {
    "scrolled": true
   },
   "outputs": [],
   "source": [
    "from pyspark import SparkConf, SparkContext\n",
    "sc = SparkContext(conf=SparkConf())"
   ]
  },
  {
   "cell_type": "code",
   "execution_count": 2,
   "metadata": {},
   "outputs": [],
   "source": [
    "import numpy as np"
   ]
  },
  {
   "cell_type": "markdown",
   "metadata": {},
   "source": [
    "# 定义距离函数"
   ]
  },
  {
   "cell_type": "code",
   "execution_count": 3,
   "metadata": {},
   "outputs": [],
   "source": [
    "def l2_dist(u, v):\n",
    "    return np.abs((u*u-v*v)).sum()"
   ]
  },
  {
   "cell_type": "code",
   "execution_count": 4,
   "metadata": {},
   "outputs": [],
   "source": [
    "def l1_dist(u, v):\n",
    "    return np.abs((u-v)).sum()"
   ]
  },
  {
   "cell_type": "markdown",
   "metadata": {},
   "source": [
    "# 聚类时将数据点指派给簇的方法"
   ]
  },
  {
   "cell_type": "code",
   "execution_count": 25,
   "metadata": {},
   "outputs": [],
   "source": [
    "# return (cluster, point, cost)\n",
    "def assign_to_cluster(point, centroids, dist_fn):\n",
    "    min_dist = float('inf')\n",
    "    cluster = None\n",
    "    for i, centroid in enumerate(centroids.value):\n",
    "        # TODO: YOUR CODE HERE\n",
    "        dist = dist_fn(point, centroid)\n",
    "        if dist < min_dist:\n",
    "            min_dist = dist\n",
    "            cluster = i\n",
    "    return cluster, point, min_dist"
   ]
  },
  {
   "cell_type": "markdown",
   "metadata": {},
   "source": [
    "# 文件路径"
   ]
  },
  {
   "cell_type": "code",
   "execution_count": 16,
   "metadata": {},
   "outputs": [],
   "source": [
    "data_fname = 'q1/data/data.txt'\n",
    "random_initial_centroids_fname = 'q1/data/c1.txt'\n",
    "far_initial_centroids_fname = 'q1/data/c2.txt'"
   ]
  },
  {
   "cell_type": "markdown",
   "metadata": {},
   "source": [
    "# 加载数据点"
   ]
  },
  {
   "cell_type": "code",
   "execution_count": 18,
   "metadata": {},
   "outputs": [],
   "source": [
    "data = sc.textFile(data_fname)\n",
    "data = data.map(lambda line: np.array([float(value) for value in line.split()]))"
   ]
  },
  {
   "cell_type": "code",
   "execution_count": 19,
   "metadata": {},
   "outputs": [
    {
     "data": {
      "text/plain": [
       "[array([  0.   ,   0.64 ,   0.64 ,   0.   ,   0.32 ,   0.   ,   0.   ,\n",
       "          0.   ,   0.   ,   0.   ,   0.   ,   0.64 ,   0.   ,   0.   ,\n",
       "          0.   ,   0.32 ,   0.   ,   1.29 ,   1.93 ,   0.   ,   0.96 ,\n",
       "          0.   ,   0.   ,   0.   ,   0.   ,   0.   ,   0.   ,   0.   ,\n",
       "          0.   ,   0.   ,   0.   ,   0.   ,   0.   ,   0.   ,   0.   ,\n",
       "          0.   ,   0.   ,   0.   ,   0.   ,   0.   ,   0.   ,   0.   ,\n",
       "          0.   ,   0.   ,   0.   ,   0.   ,   0.   ,   0.   ,   0.   ,\n",
       "          0.   ,   0.   ,   0.778,   0.   ,   0.   ,   3.756,  61.   ,\n",
       "        278.   ,   1.   ]),\n",
       " array([2.100e-01, 2.800e-01, 5.000e-01, 0.000e+00, 1.400e-01, 2.800e-01,\n",
       "        2.100e-01, 7.000e-02, 0.000e+00, 9.400e-01, 2.100e-01, 7.900e-01,\n",
       "        6.500e-01, 2.100e-01, 1.400e-01, 1.400e-01, 7.000e-02, 2.800e-01,\n",
       "        3.470e+00, 0.000e+00, 1.590e+00, 0.000e+00, 4.300e-01, 4.300e-01,\n",
       "        0.000e+00, 0.000e+00, 0.000e+00, 0.000e+00, 0.000e+00, 0.000e+00,\n",
       "        0.000e+00, 0.000e+00, 0.000e+00, 0.000e+00, 0.000e+00, 0.000e+00,\n",
       "        7.000e-02, 0.000e+00, 0.000e+00, 0.000e+00, 0.000e+00, 0.000e+00,\n",
       "        0.000e+00, 0.000e+00, 0.000e+00, 0.000e+00, 0.000e+00, 0.000e+00,\n",
       "        0.000e+00, 1.320e-01, 0.000e+00, 3.720e-01, 1.800e-01, 4.800e-02,\n",
       "        5.114e+00, 1.010e+02, 1.028e+03, 1.000e+00]),\n",
       " array([6.000e-02, 0.000e+00, 7.100e-01, 0.000e+00, 1.230e+00, 1.900e-01,\n",
       "        1.900e-01, 1.200e-01, 6.400e-01, 2.500e-01, 3.800e-01, 4.500e-01,\n",
       "        1.200e-01, 0.000e+00, 1.750e+00, 6.000e-02, 6.000e-02, 1.030e+00,\n",
       "        1.360e+00, 3.200e-01, 5.100e-01, 0.000e+00, 1.160e+00, 6.000e-02,\n",
       "        0.000e+00, 0.000e+00, 0.000e+00, 0.000e+00, 0.000e+00, 0.000e+00,\n",
       "        0.000e+00, 0.000e+00, 0.000e+00, 0.000e+00, 0.000e+00, 0.000e+00,\n",
       "        0.000e+00, 0.000e+00, 0.000e+00, 6.000e-02, 0.000e+00, 0.000e+00,\n",
       "        1.200e-01, 0.000e+00, 6.000e-02, 6.000e-02, 0.000e+00, 0.000e+00,\n",
       "        1.000e-02, 1.430e-01, 0.000e+00, 2.760e-01, 1.840e-01, 1.000e-02,\n",
       "        9.821e+00, 4.850e+02, 2.259e+03, 1.000e+00])]"
      ]
     },
     "execution_count": 19,
     "metadata": {},
     "output_type": "execute_result"
    }
   ],
   "source": [
    "data.take(3)"
   ]
  },
  {
   "cell_type": "markdown",
   "metadata": {},
   "source": [
    "# 加载初始质心"
   ]
  },
  {
   "cell_type": "code",
   "execution_count": 19,
   "metadata": {},
   "outputs": [],
   "source": [
    "centroids = np.loadtxt(random_initial_centroids_fname)\n",
    "centroids = sc.broadcast(centroids)"
   ]
  },
  {
   "cell_type": "code",
   "execution_count": null,
   "metadata": {},
   "outputs": [],
   "source": [
    "dist_fn = l2_dist\n",
    "MAX_ITER = 20\n",
    "cost_seq = []\n",
    "for i in range(MAX_ITER):\n",
    "    # TODO: YOUR CODE HERE\n",
    "    # HINT: 输出的结果为(cluster, point, cost)\n",
    "    assignment = data.map(lambda point: assign_to_cluster(point, centroids, dist_fn))\n",
    "    \n",
    "    # TODO: YOUR CODE HERE\n",
    "    # HINT: 计算本轮迭代的代价cost\n",
    "    # cost = ??? <reduce>\n",
    "    print(f'iter {i}: cost is {cost}')\n",
    "    cost_seq.append(cost)\n",
    "\n",
    "    # 计算新的质心\n",
    "    # TODO: YOUR CODE HERE\n",
    "    # new_centroids = ???\n",
    "    # HINT: 先把assignment转换为(cluster, (point, 1))\n",
    "    #    (cluster, point, cost)\n",
    "    # -> <map>         (cluster, (point, 1))\n",
    "    # -> <reduceByKey> (cluster, (point_accum, count))\n",
    "    # -> <mapValue>    (cluster, point_accum / count)\n",
    "    # -> <map>         (centroid)\n",
    "    # -> <collect>     centroids\n",
    "    centroids = sc.broadcast(new_centroids)\n"
   ]
  }
 ],
 "metadata": {
  "kernelspec": {
   "display_name": "Python 3",
   "language": "python",
   "name": "python3"
  },
  "language_info": {
   "codemirror_mode": {
    "name": "ipython",
    "version": 3
   },
   "file_extension": ".py",
   "mimetype": "text/x-python",
   "name": "python",
   "nbconvert_exporter": "python",
   "pygments_lexer": "ipython3",
   "version": "3.7.9"
  },
  "name": "q1.ipynb"
 },
 "nbformat": 4,
 "nbformat_minor": 4
}
