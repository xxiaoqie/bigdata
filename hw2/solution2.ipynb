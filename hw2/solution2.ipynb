{
 "cells": [
  {
   "cell_type": "markdown",
   "metadata": {},
   "source": [
    "### 本次作业主要使用numpy工具包完成矩阵运算"
   ]
  },
  {
   "cell_type": "code",
   "execution_count": 1,
   "metadata": {},
   "outputs": [],
   "source": [
    "import numpy as np"
   ]
  },
  {
   "cell_type": "markdown",
   "metadata": {},
   "source": [
    "### 数据文件"
   ]
  },
  {
   "cell_type": "code",
   "execution_count": 2,
   "metadata": {},
   "outputs": [],
   "source": [
    "user_show_fname = './q2/data/user-shows.txt'\n",
    "show_fname = './q2/data/shows.txt'"
   ]
  },
  {
   "cell_type": "markdown",
   "metadata": {},
   "source": [
    "### 将电视节目名称读取为字符串列表"
   ]
  },
  {
   "cell_type": "code",
   "execution_count": 3,
   "metadata": {},
   "outputs": [],
   "source": [
    "shows = []\n",
    "with open(show_fname) as f:\n",
    "    for line in f:\n",
    "        shows.append(line.rstrip())"
   ]
  },
  {
   "cell_type": "markdown",
   "metadata": {},
   "source": [
    "### 将评分矩阵读取为numpy的二维矩阵"
   ]
  },
  {
   "cell_type": "code",
   "execution_count": 4,
   "metadata": {},
   "outputs": [
    {
     "name": "stdout",
     "output_type": "stream",
     "text": [
      "(9985, 563)\n"
     ]
    }
   ],
   "source": [
    "R = np.loadtxt(user_show_fname, delimiter=' ')\n",
    "print(R.shape)"
   ]
  },
  {
   "cell_type": "markdown",
   "metadata": {},
   "source": [
    "### p和q分别是R矩阵沿着用户和节目方向的求和"
   ]
  },
  {
   "cell_type": "code",
   "execution_count": 5,
   "metadata": {},
   "outputs": [],
   "source": [
    "p = np.sum(R, axis=1)\n",
    "q = np.sum(R, axis=0)"
   ]
  },
  {
   "cell_type": "markdown",
   "metadata": {},
   "source": [
    "### 计算归一化系数"
   ]
  },
  {
   "cell_type": "code",
   "execution_count": 6,
   "metadata": {},
   "outputs": [],
   "source": [
    "p_ = 1 / np.sqrt(p)\n",
    "q_ = 1 / np.sqrt(q)"
   ]
  },
  {
   "cell_type": "markdown",
   "metadata": {},
   "source": [
    "### 构造对角矩阵"
   ]
  },
  {
   "cell_type": "code",
   "execution_count": 7,
   "metadata": {},
   "outputs": [],
   "source": [
    "P_ = np.diag(p_)\n",
    "Q_ = np.diag(q_)"
   ]
  },
  {
   "cell_type": "markdown",
   "metadata": {},
   "source": [
    "### 根据(c)的推导结果\n",
    "### $\\Gamma_u = P^{-1/2}RR^TP^{-1/2}R$\n",
    "### $\\Gamma_i = RQ^{-1/2}R^TRQ^{-1/2}$\n",
    "### numpy中使用\"@\"符号表示矩阵乘法运算；矩阵A的转置是A.T"
   ]
  },
  {
   "cell_type": "code",
   "execution_count": 8,
   "metadata": {},
   "outputs": [],
   "source": [
    "# TODO: YOUR CODE HERE\n",
    "# Ru = ? @ ? @ ? @ ? @ ?\n",
    "# Ri = ? @ ? @ ? @ ? @ ?\n",
    "Ru = P_ @ R @ R.T @ P_ @ R\n",
    "Ri = R @ Q_ @ R.T @ R @ Q_"
   ]
  },
  {
   "cell_type": "markdown",
   "metadata": {},
   "source": [
    "### 取出按用户和商品推荐的结果中Alex的前100部电视节目得分"
   ]
  },
  {
   "cell_type": "code",
   "execution_count": 9,
   "metadata": {},
   "outputs": [],
   "source": [
    "alex_index = 499"
   ]
  },
  {
   "cell_type": "code",
   "execution_count": 10,
   "metadata": {},
   "outputs": [],
   "source": [
    "Ru_alex = Ru[alex_index, :100]\n",
    "Ri_alex = Ri[alex_index, :100]"
   ]
  },
  {
   "cell_type": "markdown",
   "metadata": {},
   "source": [
    "### 找出得分最高的5个节目的下标\n",
    "### 注意numpy中argsort的用法\n",
    "### 你还需要将结果逆序"
   ]
  },
  {
   "cell_type": "code",
   "execution_count": 11,
   "metadata": {},
   "outputs": [],
   "source": [
    "# TODO: YOUR CODE HERE\n",
    "# Ru_index = np.argsort(?)\n",
    "# Ri_index = np.argsort(?)\n",
    "Ru_index = np.argsort(Ru_alex)[-5:][::-1]\n",
    "Ri_index = np.argsort(Ri_alex)[-5:][::-1]"
   ]
  },
  {
   "cell_type": "code",
   "execution_count": 12,
   "metadata": {},
   "outputs": [],
   "source": [
    "Ru_results = list(zip(Ru_alex[Ru_index], Ru_index,\n",
    "                      [shows[i] for i in Ru_index]))\n",
    "Ri_results = list(zip(Ri_alex[Ri_index], Ri_index,\n",
    "                      [shows[i] for i in Ri_index]))"
   ]
  },
  {
   "cell_type": "markdown",
   "metadata": {},
   "source": [
    "### 打印结果"
   ]
  },
  {
   "cell_type": "code",
   "execution_count": 13,
   "metadata": {},
   "outputs": [
    {
     "name": "stdout",
     "output_type": "stream",
     "text": [
      "[(908.480053476128, 96, '\"FOX 28 News at 10pm\"'), (861.1759992873295, 74, '\"Family Guy\"'), (827.6012954743578, 45, '\"2009 NCAA Basketball Tournament\"'), (784.781958903974, 60, '\"NBC 4 at Eleven\"'), (757.6011181024229, 9, '\"Two and a Half Men\"')]\n",
      "[(31.36470167834239, 96, '\"FOX 28 News at 10pm\"'), (30.001141798877764, 74, '\"Family Guy\"'), (29.396797773402547, 60, '\"NBC 4 at Eleven\"'), (29.227001561500483, 45, '\"2009 NCAA Basketball Tournament\"'), (28.97127767405556, 82, '\"Access Hollywood\"')]\n"
     ]
    }
   ],
   "source": [
    "print(Ru_results)\n",
    "print(Ri_results)"
   ]
  },
  {
   "cell_type": "code",
   "execution_count": null,
   "metadata": {},
   "outputs": [],
   "source": []
  }
 ],
 "metadata": {
  "kernelspec": {
   "display_name": "Python 3",
   "language": "python",
   "name": "python3"
  },
  "language_info": {
   "codemirror_mode": {
    "name": "ipython",
    "version": 3
   },
   "file_extension": ".py",
   "mimetype": "text/x-python",
   "name": "python",
   "nbconvert_exporter": "python",
   "pygments_lexer": "ipython3",
   "version": "3.7.9"
  },
  "name": "q2_hint.ipynb"
 },
 "nbformat": 4,
 "nbformat_minor": 4
}
