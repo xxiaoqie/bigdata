{
 "cells": [
  {
   "cell_type": "code",
   "execution_count": 1,
   "id": "abroad-graham",
   "metadata": {},
   "outputs": [],
   "source": [
    "import os\n",
    "os.environ['JAVA_HOME'] = 'C:/Program Files/Java/jdk1.8.0_291'"
   ]
  },
  {
   "cell_type": "code",
   "execution_count": 2,
   "id": "naval-heading",
   "metadata": {},
   "outputs": [],
   "source": [
    "from pyspark import SparkConf, SparkContext\n",
    "sc = SparkContext(conf=SparkConf())"
   ]
  },
  {
   "cell_type": "code",
   "execution_count": 3,
   "id": "corrected-vision",
   "metadata": {},
   "outputs": [],
   "source": [
    "import numpy as np\n",
    "data = sc.textFile(\"q2/data/user-shows.txt\")\n",
    "user = data.map(lambda line: np.array([int(value) for value in line.split()]))"
   ]
  },
  {
   "cell_type": "code",
   "execution_count": 4,
   "id": "informal-flashing",
   "metadata": {},
   "outputs": [],
   "source": [
    "R = np.array(user.collect())\n",
    "P = []\n",
    "Q = []\n",
    "alex = []\n",
    "for i in range(len(R)):\n",
    "    s = R[i].sum()\n",
    "    if(s != 0):\n",
    "        s = s**-0.5\n",
    "    P.append(s)\n",
    "for j in range(len(R[0])):\n",
    "    s = R[:,j].sum()\n",
    "    if(s != 0):\n",
    "        s = s**-0.5\n",
    "    Q.append(s)\n",
    "P = np.diag(P)\n",
    "Q = np.diag(Q)"
   ]
  },
  {
   "cell_type": "code",
   "execution_count": 5,
   "id": "professional-governor",
   "metadata": {},
   "outputs": [],
   "source": [
    "Si = Q.dot(R.T.dot(R.dot(Q)))\n",
    "Su = P.dot(R.dot(R.T.dot(P)))"
   ]
  },
  {
   "cell_type": "code",
   "execution_count": 143,
   "id": "secondary-happening",
   "metadata": {},
   "outputs": [],
   "source": [
    "fav1 = sc.parallelize(R.dot(Si)[499,:100]).zipWithIndex().map(lambda t:(t[1],t[0]))\n",
    "fav2 = sc.parallelize(Su.dot(R)[499,:100]).zipWithIndex().map(lambda t:(t[1],t[0]))"
   ]
  },
  {
   "cell_type": "code",
   "execution_count": 144,
   "id": "purple-literacy",
   "metadata": {},
   "outputs": [],
   "source": [
    "shows = sc.textFile(\"q2/data/shows.txt\").zipWithIndex().map(lambda t:(t[1],t[0]))"
   ]
  },
  {
   "cell_type": "code",
   "execution_count": 150,
   "id": "guilty-challenge",
   "metadata": {},
   "outputs": [
    {
     "data": {
      "text/plain": [
       "[(31.364701678342406, '\"FOX 28 News at 10pm\"'),\n",
       " (30.001141798877768, '\"Family Guy\"'),\n",
       " (29.396797773402554, '\"NBC 4 at Eleven\"'),\n",
       " (29.227001561500487, '\"2009 NCAA Basketball Tournament\"'),\n",
       " (28.971277674055564, '\"Access Hollywood\"')]"
      ]
     },
     "execution_count": 150,
     "metadata": {},
     "output_type": "execute_result"
    }
   ],
   "source": [
    "fav1.join(shows).sortBy(lambda x:(-x[1][0],x[0])).values().take(5)"
   ]
  },
  {
   "cell_type": "code",
   "execution_count": 151,
   "id": "helpful-african",
   "metadata": {},
   "outputs": [
    {
     "data": {
      "text/plain": [
       "[(908.4800534761282, '\"FOX 28 News at 10pm\"'),\n",
       " (861.1759992873298, '\"Family Guy\"'),\n",
       " (827.6012954743584, '\"2009 NCAA Basketball Tournament\"'),\n",
       " (784.7819589039742, '\"NBC 4 at Eleven\"'),\n",
       " (757.6011181024229, '\"Two and a Half Men\"')]"
      ]
     },
     "execution_count": 151,
     "metadata": {},
     "output_type": "execute_result"
    }
   ],
   "source": [
    "fav2.join(shows).sortBy(lambda x:(-x[1][0],x[0])).values().take(5)"
   ]
  },
  {
   "cell_type": "code",
   "execution_count": null,
   "id": "medieval-institute",
   "metadata": {},
   "outputs": [],
   "source": []
  }
 ],
 "metadata": {
  "kernelspec": {
   "display_name": "Python 3",
   "language": "python",
   "name": "python3"
  },
  "language_info": {
   "codemirror_mode": {
    "name": "ipython",
    "version": 3
   },
   "file_extension": ".py",
   "mimetype": "text/x-python",
   "name": "python",
   "nbconvert_exporter": "python",
   "pygments_lexer": "ipython3",
   "version": "3.7.9"
  }
 },
 "nbformat": 4,
 "nbformat_minor": 5
}
